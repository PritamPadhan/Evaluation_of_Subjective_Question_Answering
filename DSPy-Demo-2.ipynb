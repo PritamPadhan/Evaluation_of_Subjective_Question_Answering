{
 "cells": [
  {
   "cell_type": "markdown",
   "id": "0d7636b1-6ac6-4b1c-ba45-459a6ee273f5",
   "metadata": {},
   "source": [
    "### Creating the dataset"
   ]
  },
  {
   "cell_type": "code",
   "execution_count": 1,
   "id": "2b15dc1e-d1a9-40bc-a567-47acf34aac75",
   "metadata": {},
   "outputs": [],
   "source": [
    "import pandas as pd"
   ]
  },
  {
   "cell_type": "code",
   "execution_count": 2,
   "id": "21a95331-a35d-45ed-a315-d8d0652c5764",
   "metadata": {},
   "outputs": [],
   "source": [
    "# pip install dspy-ai"
   ]
  },
  {
   "cell_type": "code",
   "execution_count": 3,
   "id": "64e2b390-24bc-4b85-8f80-649a0b26fa18",
   "metadata": {},
   "outputs": [],
   "source": [
    "import dspy"
   ]
  },
  {
   "cell_type": "code",
   "execution_count": 4,
   "id": "68e1d873-7b19-4315-99c0-4759cdb27264",
   "metadata": {},
   "outputs": [],
   "source": [
    "question1 = \"What is the time complexity of the Karatsuba algorithm which is used for multiplying two integers?\"\n",
    "question2 = \"What prevents recursive methods from getting stuck in an endless cycle?\"\n",
    "question3 = \"Explain the steps involved in merge sort and state the time complexity for each step.\"\n",
    "question4 = \"What is the worst case and average case time complexity of quick sort algorithm and when do they occur?\"\n",
    "questions = 5*[question1] + 4*[question2] + 5*[question3]"
   ]
  },
  {
   "cell_type": "code",
   "execution_count": 5,
   "id": "aa56d02b-b146-4725-894d-7939039264f1",
   "metadata": {},
   "outputs": [],
   "source": [
    "perfect_answer1 = \"The time complexity of Karatsuba algorithm is O(n^(log 3 base 2)), which is approximately O(n^1.585).\"\n",
    "perfect_answer2 = \"The condition that prevents recursive methods from getting stuck in an endless cycle is that there must be no infinite sequence of reductions to simpler and simpler instances. Eventually, the recursive reductions must lead to an elementary base case that can be solved by some other method.\"\n",
    "perfect_answer3 = \"Suppose the time taken for merge sort on a list of n elements is T(n). Step 1 is to divide the list into two halves, which can be done in constant time. Step 2 is to recursively sort each of the two halves which can be done in T(n/2) time each. Step 3 is to merge the newly sorted arrays into a single sorted array which can be done in O(n) time.\"\n",
    "perfect_answer4 = \"The worst-case time complexity of quicksort is O(n^2). This occurs when the pivot chosen is either the smallest or the largest element in the array, leading to highly unbalanced partitions. The average-case time complexity of quicksort is O(nlogn). This occurs when the pivot divides the array into roughly equal-sized subarrays.\"\n",
    "perfect_answers = 5*[perfect_answer1] + 4*[perfect_answer2] + 5*[perfect_answer3]"
   ]
  },
  {
   "cell_type": "code",
   "execution_count": 6,
   "id": "04452e5d-2f35-4342-b7b3-7af7a72b5eb0",
   "metadata": {},
   "outputs": [],
   "source": [
    "sa1_1 = \"The Karatsuba algorithm's time complexity is O(n^(log 3 base 2)), which is approximately O(n^1.585).\"\n",
    "sa1_2 = \"O(n^1.6).\"\n",
    "sa1_3 = \"It is less than O(n^2).\"\n",
    "sa1_4 = \"It is less than O(n^2) but more than O(n).\"\n",
    "sa1_5 = \"It cannot be less than O(n^2).\"\n",
    "sa2_1 = \"There must be a base case.\"\n",
    "sa2_2 = \"There must be base cases, i.e, in these cases the function will not call itself again. In that case, every call to the function will terminate in finite number of steps.\"\n",
    "sa2_3 = \"Good programming practice.\"\n",
    "sa2_4 = \"It cannot be prevented. Always there is a chance an infinite cycle will be created.\"\n",
    "sa3_1 = \"Let the time taken for merge sort on a list of n elements be T(n). The first step is to divide the list into two halves, which can be done in constant time. Step 2 is to recursively sort each of the two halves which takes T(n/2) time each. The final step is to merge the newly sorted arrays into a single sorted array which can be done in O(n) time.\"\n",
    "sa3_2 = \"Suppose the time taken for merge sort on a list of n elements is T(n). Step 1 is to divide the list into two halves, which can be done in constant time. Step 2 is to recursively sort each of the two halves which can be done in T(n/2) time each. Step 3 is to merge the newly sorted arrays into a single sorted array\"\n",
    "sa3_3 = \"Step 1 is to divide the list into two halves. Step 2 is to recursively sort each of the two halves. Step 3 is to merge the newly sorted arrays into a single sorted array\"\n",
    "sa3_4 = \"There are only two steps. Step 1 is to divide the list into two halves, which can be done in constant time. Next, merge them into a single sorted array.\"\n",
    "sa3_5 = \"Merge sort is similar to quicksort where there is a pivot element and we sort the list of elements lesser than pivot and list of elements greater than pivot separately.\"\n",
    "student_answers = [sa1_1,sa1_2,sa1_3,sa1_4,sa1_5,sa2_1,sa2_2,sa2_3,sa2_4,sa3_1,sa3_2,sa3_3,sa3_4,sa3_5]"
   ]
  },
  {
   "cell_type": "code",
   "execution_count": 7,
   "id": "95e9b2e9-54bc-4959-9deb-f32a727a3d96",
   "metadata": {},
   "outputs": [],
   "source": [
    "fb1_1 = \"The student's answer is correct and matches the perfect answer. Both the student and perfect answer provide the time complexity of the Karatsuba algorithm as O(n^(log 3 base 2)) and its approximate value O(n^1.585). The student's answer is clear, concise, and easy to understand.\"\n",
    "fb1_2 = \"The student's answer is close but not exactly the same as the perfect answer. The Karatsuba algorithm's time complexity is indeed better than O(n^2), but it is not exactly O(n^1.6). The student answer is slightly less precise than the perfect answer. However, the student answer is still close, which shows effort.\"\n",
    "fb1_3 = \"The student's answer is correct in stating that the Karatsuba algorithm has a time complexity that is less than O(n^2), but it is not specific enough. It is only an upper bound. The perfect answer provides a more precise time complexity of O(n^(log 3 base 2)), which is approximately O(n^1.585). The student's answer could have been more clear and accurate by providing this specific time complexity. However, the student's answer is still partially correct.\"\n",
    "fb1_4 = \"The student's answer is partially correct as it correctly identifies that the time complexity of the Karatsuba algorithm is less than O(n^2) but more than O(n). However, the student's answer does not provide the exact time complexity of the Karatsuba algorithm. The perfect answer provides the exact time complexity of O(n^(log 3 base 2)), which is approximately O(n^1.585). However it is good that he provides both upper and lower bound.\"\n",
    "fb1_5 = \"The student's answer is incorrect as it states that the time complexity cannot be less than O(n^2), while the perfect answer states that the time complexity of the Karatsuba algorithm is O(n^(log 3 base 2)), which is approximately O(n^1.585).\"\n",
    "fb2_1 = \"The student's answer is correct and matches the perfect answer in spirit, but lacks the necessary detail and clarity. The perfect answer explains that there must be no infinite sequence of reductions and that eventually, the recursive reductions must lead to an elementary base case. The student's answer is too brief and does not provide this level of detail. To improve the clarity of the answer, the student could have provided a more detailed explanation, such as the one given in the perfect answer. Nonetheless, the student's answer is still accurate.\"\n",
    "fb2_2 = \"The student's answer correctly identifies the need for base cases to prevent an endless cycle in recursive methods. The right explanation is given in detail, even though it is a bit different from the perfect answer.\"\n",
    "fb2_3 = \"The student's answer does not provide a theoretical explanation for the question. The perfect answer explains that there must be a base case that can be solved by some other method, which is a crucial aspect of recursion. But it is also right that dealing with base cases of recursion is good programming practice.\"\n",
    "fb2_4 = \"The student's answer is incorrect as it states that it cannot be prevented, contrary to the perfect answer. An infinite cycle can be avoided by dealing with the base cases, as the perfect answer explains.\"\n",
    "fb3_1 = \"The student correctly identifies the steps involved in merge sort and the time complexity for each step. So even though the wording is slightly different, the student gets a perfect score of 10.\"\n",
    "fb3_2 = \"The student's answer is missing the time complexity for the merging step. The merging step in merge sort has a time complexity of O(n), where n is the number of elements being merged. The student correctly identifies the time complexity for the first two steps. There are 6 things to be mentioned : 3 steps and 3 time complexities, and the student misses one of them and hence loses (1/6)*10 = 1.67 marks.\"\n",
    "fb3_3 = \"The student's answer correctly identifies the three main steps involved in the merge sort algorithm. However, the student's answer lacks precision in stating the time complexity for each step. The perfect answer provides the exact time complexity for each step, which helps in understanding the overall time complexity of the merge sort algorithm.There are 6 things to be mentioned : 3 steps and 3 time complexities, and the student misses half of them and hence loses (3/6)*10 = 5 marks.\"\n",
    "fb3_4 = \"The student's answer is not complete as it only mentions two steps, while the perfect answer mentions three steps. The student correctly identifies that dividing the list into two halves can be done in constant time. However, the student does not mention the time complexity for the recursive sorting step or the merging step. The student mentions 3 out of 6 details correctly and thus gets half the total marks.\"\n",
    "fb3_5 = \"The student's answer is completely incorrect. Merge sort is not similar to quicksort, but rather it is a divide-and-conquer algorithm that repeatedly divides the input list into two halves, sorts them, and then merges them. The time complexity for each step is also not provided in the student's answer.\"\n",
    "fb4_1 = \"The student's answer mentions correctly all the details given in the perfect answer. The student correctly identifies the time complexities for both the worst case and the average case, as well as the conditions for when they occur, resulting in a perfect score of 10.\"\n",
    "fb4_2 = \"The student correctly identifies the worst-case time complexity of quicksort, but incorrectly identifies the average-case time complexity. The conditions for when they occur have been described correctly. The student mentions 3 out of 4 details correctly, hence gets a score of 7.5.\"\n",
    "fb4_3 = \"The student mentions that average case and worst case time complexities are O(n^2) and O(nlogn) respectively, which means average case is O(n^2) and worst case is O(nlogn) both of which are incorrect.  The conditions for when they occur have been described correctly. The student mentions 2 out of 4 details correctly, hence gets a score of 5.\"\n",
    "fb4_4 = \"The student correctly identifies the time complexities for both the worst case and the average case, but doesn't mention when they occur. The student mentions 2 out of 4 details correctly, hence gets a score of 5.\"\n",
    "fb4_5 = \"The student correctly identifies the time complexities for the worst case but not for the average case. Also the student doesn't mention when they occur. The student mentions only one out of 4 details correctly, hence gets a score of 2.5.\"\n",
    "fb4_6 = \"The student's answer is correct in identifying the scenarios for worst case and average case time complexity of quicksort. However, it does not provide the time complexities as given in the perfect answer. The student mentions 2 out of 4 details correctly, hence gets a score of 5.\"\n",
    "fb4_7 = \"The student's answer correctly identifies the worst-case scenario for the quicksort algorithm, but it does not mention the time complexities or the average-case scenario. So the student only mentions one out of 4 details, and hence should get a score of 2.5. But explanation for why the worst case occurs when the pivot is so chosen is not given for which 0.5 marks are further deducted.\"\n",
    "fb4_8 = \"The student has not mentioned the time complexities. Also the student has incorrectly described the scenarios and has reversed the worst-case and average case scenarios. Hence student gets a score of 0.\"\n",
    "feedbacks = [fb1_1,fb1_2,fb1_3,fb1_4,fb1_5,fb2_1,fb2_2,fb2_3,fb2_4,fb3_1,fb3_2,fb3_3,fb3_4,fb3_5]"
   ]
  },
  {
   "cell_type": "code",
   "execution_count": 8,
   "id": "7cf602d1-3d85-46f5-a3bc-847b9adc490d",
   "metadata": {},
   "outputs": [],
   "source": [
    "scores = ['10','9.5','5','6','0','8','10','2','0','10','8.33','5','5','0','10','7.5','5','5','2.5','5','2','0']"
   ]
  },
  {
   "cell_type": "code",
   "execution_count": 9,
   "id": "d2e1f44d-4b53-4fbf-bafc-a319b81ff215",
   "metadata": {},
   "outputs": [
    {
     "name": "stdout",
     "output_type": "stream",
     "text": [
      "[Example({'question': 'What is the time complexity of the Karatsuba algorithm which is used for multiplying two integers?', 'student_answer': \"The Karatsuba algorithm's time complexity is O(n^(log 3 base 2)), which is approximately O(n^1.585).\", 'perfect_answer': 'The time complexity of Karatsuba algorithm is O(n^(log 3 base 2)), which is approximately O(n^1.585).', 'feedback': \"The student's answer is correct and matches the perfect answer. Both the student and perfect answer provide the time complexity of the Karatsuba algorithm as O(n^(log 3 base 2)) and its approximate value O(n^1.585). The student's answer is clear, concise, and easy to understand.\", 'score': '10'}) (input_keys={'student_answer', 'perfect_answer', 'question'}), Example({'question': 'What is the time complexity of the Karatsuba algorithm which is used for multiplying two integers?', 'student_answer': 'O(n^1.6).', 'perfect_answer': 'The time complexity of Karatsuba algorithm is O(n^(log 3 base 2)), which is approximately O(n^1.585).', 'feedback': \"The student's answer is close but not exactly the same as the perfect answer. The Karatsuba algorithm's time complexity is indeed better than O(n^2), but it is not exactly O(n^1.6). The student answer is slightly less precise than the perfect answer. However, the student answer is still close, which shows effort.\", 'score': '9.5'}) (input_keys={'student_answer', 'perfect_answer', 'question'})]\n"
     ]
    }
   ],
   "source": [
    "dataset = []\n",
    "\n",
    "for i in range(9):\n",
    "    dataset.append(dspy.Example(question=questions[i], student_answer=student_answers[i], perfect_answer=perfect_answers[i], feedback=feedbacks[i],score = scores[i]).with_inputs(\"question\",\"student_answer\",\"perfect_answer\"))\n",
    "\n",
    "print(dataset[:2])"
   ]
  },
  {
   "cell_type": "code",
   "execution_count": 10,
   "id": "d65d647e-21f0-470e-9a26-c1fb135bda73",
   "metadata": {},
   "outputs": [],
   "source": [
    "trainset, devset = dataset[:6],dataset[6:]"
   ]
  },
  {
   "cell_type": "markdown",
   "id": "ffe63248-c198-4832-9d3f-5f59717b570e",
   "metadata": {},
   "source": [
    "### Using Dataset with DSPY"
   ]
  },
  {
   "cell_type": "code",
   "execution_count": 11,
   "id": "3a1ce6ec-4913-4b80-bb0b-0f0f667e0e8c",
   "metadata": {},
   "outputs": [],
   "source": [
    "class GenerateScore(dspy.Signature):\n",
    "    \"\"\"Generate a feedback and a score for student_answer based on perfect_answer where score is a string representing float value between 0 and 10.\"\"\"\n",
    "\n",
    "    question : str = dspy.InputField()\n",
    "    student_answer : str = dspy.InputField()\n",
    "    perfect_answer : str = dspy.InputField(desc = \"use this to generate feedback and score.\")\n",
    "    feedback : str = dspy.OutputField(desc = \"a feedback for student's answer.\")\n",
    "    score : str = dspy.OutputField(desc=\"a score between 0 and 10 as a string. Must be able to convert to float\")"
   ]
  },
  {
   "cell_type": "code",
   "execution_count": 12,
   "id": "be4f7854-bb1a-4155-ad0d-f33f2e12687e",
   "metadata": {},
   "outputs": [],
   "source": [
    "class CoT(dspy.Module):\n",
    "    def __init__(self):\n",
    "        super().__init__()\n",
    "        self.prog = dspy.ChainOfThought(GenerateScore)\n",
    "    \n",
    "    def forward(self, question, student_answer, perfect_answer):\n",
    "        return self.prog(question=question, student_answer=student_answer, perfect_answer=perfect_answer)"
   ]
  },
  {
   "cell_type": "code",
   "execution_count": 13,
   "id": "61c454cf-f67c-427f-851c-80f6253891af",
   "metadata": {},
   "outputs": [],
   "source": [
    "def cosine_sim(str1,str2):\n",
    "    from sklearn.feature_extraction.text import TfidfVectorizer\n",
    "    from sklearn.metrics.pairwise import cosine_similarity\n",
    "    return cosine_similarity(TfidfVectorizer().fit_transform([str1, str2]))[0, 1]"
   ]
  },
  {
   "cell_type": "code",
   "execution_count": 14,
   "id": "1976ead9-e94a-4132-bc32-c300725eca8f",
   "metadata": {},
   "outputs": [
    {
     "name": "stderr",
     "output_type": "stream",
     "text": [
      "<>:4: SyntaxWarning: invalid escape sequence '\\d'\n",
      "<>:4: SyntaxWarning: invalid escape sequence '\\d'\n",
      "C:\\Users\\Admin\\AppData\\Local\\Temp\\ipykernel_24016\\891290194.py:4: SyntaxWarning: invalid escape sequence '\\d'\n",
      "  pred_score = re.findall(\"\\d{1,2}.?\\d?\", pred.score)[0]\n"
     ]
    }
   ],
   "source": [
    "def feedback_score_metric(example, pred, trace = None):\n",
    "    import re\n",
    "    feedback_metric = cosine_sim(example.feedback, pred.feedback)\n",
    "    pred_score = re.findall(\"\\d{1,2}.?\\d?\", pred.score)[0]\n",
    "    score_metric = 1 - abs(float(example.score) - float(pred_score))/10\n",
    "    return (feedback_metric + score_metric)/2"
   ]
  },
  {
   "cell_type": "code",
   "execution_count": 15,
   "id": "f39b29c7-2c50-44d8-ad74-98542c383f56",
   "metadata": {},
   "outputs": [],
   "source": [
    "turbo = dspy.GROQ(model='mixtral-8x7b-32768', api_key =\"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\" )\n",
    "dspy.settings.configure(lm=turbo)"
   ]
  },
  {
   "cell_type": "code",
   "execution_count": 16,
   "id": "49c66430-6b9d-411a-bc8a-99a74b3f00d3",
   "metadata": {},
   "outputs": [
    {
     "name": "stderr",
     "output_type": "stream",
     "text": [
      " 67%|████████████████████████████████████████████████████████                            | 4/6 [00:42<00:21, 10.66s/it]\n"
     ]
    },
    {
     "name": "stdout",
     "output_type": "stream",
     "text": [
      "Bootstrapped 4 full traces after 5 examples in round 0.\n"
     ]
    }
   ],
   "source": [
    "from dspy.teleprompt import BootstrapFewShot\n",
    "\n",
    "# Set up the optimizer: we want to \"bootstrap\" (i.e., self-generate) 4-shot examples of our CoT program.\n",
    "config = dict(max_bootstrapped_demos=4, max_labeled_demos=4)\n",
    "# Optimize! Use the `gsm8k_metric` here. In general, the metric is going to tell the optimizer how well it's doing.\n",
    "teleprompter = BootstrapFewShot(metric=feedback_score_metric, **config)\n",
    "optimized_cot = teleprompter.compile(CoT(), trainset=trainset)"
   ]
  },
  {
   "cell_type": "code",
   "execution_count": 17,
   "id": "ca2c25d7-9be5-44e4-ad93-4062f73ebaa0",
   "metadata": {},
   "outputs": [
    {
     "name": "stderr",
     "output_type": "stream",
     "text": [
      "Average Metric: 1.2188920322359937 / 2  (60.9):  67%|████████████████████████            | 2/3 [00:31<00:15, 15.86s/it]INFO:backoff:Backing off request(...) for 0.9s (groq.RateLimitError: Error code: 429 - {'error': {'message': 'Rate limit reached for model `mixtral-8x7b-32768` in organization `org_01j21q91w4fveargpx9ww58dpr` on tokens per minute (TPM): Limit 5000, Used 5077, Requested 1190. Please try again in 15.215s. Visit https://console.groq.com/docs/rate-limits for more information.', 'type': 'tokens', 'code': 'rate_limit_exceeded'}})\n"
     ]
    },
    {
     "name": "stdout",
     "output_type": "stream",
     "text": [
      "Backing off 0.9 seconds after 1 tries calling function <function GroqLM.request at 0x000001CA546D2CA0> with kwargs {}\n"
     ]
    },
    {
     "name": "stderr",
     "output_type": "stream",
     "text": [
      "Average Metric: 1.9888840573790199 / 3  (66.3): 100%|████████████████████████████████████| 3/3 [00:47<00:00, 15.98s/it]\n"
     ]
    },
    {
     "data": {
      "text/plain": [
       "66.3"
      ]
     },
     "execution_count": 17,
     "metadata": {},
     "output_type": "execute_result"
    }
   ],
   "source": [
    "from dspy.evaluate import Evaluate\n",
    "\n",
    "# Set up the evaluator, which can be used multiple times.\n",
    "evaluate = Evaluate(devset=devset, metric=feedback_score_metric, num_threads=4, display_progress=True, display_table=0)\n",
    "\n",
    "# Evaluate our `optimized_cot` program.\n",
    "evaluate(optimized_cot)"
   ]
  },
  {
   "cell_type": "code",
   "execution_count": 18,
   "id": "eefc027d-4ff2-4a24-9389-ab93559d5efe",
   "metadata": {},
   "outputs": [
    {
     "name": "stdout",
     "output_type": "stream",
     "text": [
      "\n",
      "\n",
      "\n",
      "Generate a feedback and a score for student_answer based on perfect_answer where score is a string representing float value between 0 and 10.\n",
      "\n",
      "---\n",
      "\n",
      "Follow the following format.\n",
      "\n",
      "Question: ${question}\n",
      "\n",
      "Student Answer: ${student_answer}\n",
      "\n",
      "Perfect Answer: use this to generate feedback and score.\n",
      "\n",
      "Reasoning: Let's think step by step in order to ${produce the score}. We ...\n",
      "\n",
      "Feedback: a feedback for student's answer.\n",
      "\n",
      "Score: a score between 0 and 10 as a string. Must be able to convert to float\n",
      "\n",
      "---\n",
      "\n",
      "Question: What is the time complexity of the Karatsuba algorithm which is used for multiplying two integers?\n",
      "\n",
      "Student Answer: The Karatsuba algorithm's time complexity is O(n^(log 3 base 2)), which is approximately O(n^1.585).\n",
      "\n",
      "Perfect Answer: The time complexity of Karatsuba algorithm is O(n^(log 3 base 2)), which is approximately O(n^1.585).\n",
      "\n",
      "Reasoning: Let's think step by step in order to produce the score. We compare the student's answer with the perfect answer and evaluate the accuracy and precision.\n",
      "\n",
      "Feedback: The student's answer is exactly the same as the perfect answer. The student correctly identified the time complexity of the Karatsuba algorithm as O(n^(log 3 base 2)), which is approximately O(n^1.585).\n",
      "\n",
      "Score: 10\n",
      "\n",
      "---\n",
      "\n",
      "Question: What is the time complexity of the Karatsuba algorithm which is used for multiplying two integers?\n",
      "\n",
      "Student Answer: O(n^1.6).\n",
      "\n",
      "Perfect Answer: The time complexity of Karatsuba algorithm is O(n^(log 3 base 2)), which is approximately O(n^1.585).\n",
      "\n",
      "Reasoning: Let's think step by step in order to produce the score. We need to compare the student's answer with the perfect answer. The student's answer is close to the perfect answer, but not exactly the same. The time complexity of the Karatsuba algorithm is O(n^(log 3 base 2)), which is approximately equal to O(n^1.585), not O(n^1.6). Therefore, the student's answer is not entirely correct.\n",
      "\n",
      "Feedback: The student's answer is close, but not entirely correct. The time complexity of the Karatsuba algorithm is O(n^(log 3 base 2)), which is approximately equal to O(n^1.585), not O\n",
      "\n",
      "Score: 7 Feedback: The student's answer is close, but not entirely correct. The time complexity of the Karatsuba algorithm is O(n^(log 3 base 2)), which is approximately equal to O(n^1.585), not O(n^1.6). Therefore, the student's answer is close\n",
      "\n",
      "---\n",
      "\n",
      "Question: What is the time complexity of the Karatsuba algorithm which is used for multiplying two integers?\n",
      "\n",
      "Student Answer: It is less than O(n^2).\n",
      "\n",
      "Perfect Answer: The time complexity of Karatsuba algorithm is O(n^(log 3 base 2)), which is approximately O(n^1.585).\n",
      "\n",
      "Reasoning: Let's think step by step in order to produce the score. We need to consider both the accuracy and precision of the student's answer.\n",
      "\n",
      "Feedback: The student's answer is partially correct as it correctly identifies that the time complexity of the Karatsuba algorithm is less than O(n^2). However, the student's answer does not provide the exact time complexity of the Karatsuba algorithm. The perfect answer provides the exact time complexity of O(n^(log 3 base 2)), which is approximately O(n^1.585). Therefore, the student's answer is not precise enough.\n",
      "\n",
      "Score: 7.5 ---\n",
      "\n",
      "---\n",
      "\n",
      "Question: What is the time complexity of the Karatsuba algorithm which is used for multiplying two integers?\n",
      "\n",
      "Student Answer: It is less than O(n^2) but more than O(n).\n",
      "\n",
      "Perfect Answer: The time complexity of Karatsuba algorithm is O(n^(log 3 base 2)), which is approximately O(n^1.585).\n",
      "\n",
      "Reasoning: Let's think step by step in order to determine the score. We need to consider the accuracy of the student's answer, as well as their understanding of the concept.\n",
      "\n",
      "Feedback: The student's answer is partially correct, but lacks precision. While it is true that the Karatsuba algorithm has a time complexity that is less than O(n^2) and more than O(n), this answer does not provide a specific value for the time complexity. To improve the answer, the student could have looked up the exact time complexity or provided a more detailed explanation of why the time complexity is between O(n^2) and O(n).\n",
      "\n",
      "Score: 6.5\n",
      "\n",
      "---\n",
      "\n",
      "Question: What prevents recursive methods from getting stuck in an endless cycle?\n",
      "\n",
      "Student Answer: There must be base cases, i.e, in these cases the function will not call itself again. In that case, every call to the function will terminate in finite number of steps.\n",
      "\n",
      "Perfect Answer: The condition that prevents recursive methods from getting stuck in an endless cycle is that there must be no infinite sequence of reductions to simpler and simpler instances. Eventually, the recursive reductions must lead to an elementary base case that can be solved by some other method.\n",
      "\n",
      "Reasoning: Let's think step by step in order to produce the score. We need to compare the student's answer with the perfect answer and evaluate the accuracy and precision.\n",
      "\n",
      "Feedback: The student's answer is close to the perfect answer. The student correctly identified the need for base cases in recursive methods to prevent an endless cycle. However, the student's explanation could be more precise.\n",
      "\n",
      "Score: 8.5\n",
      "\n",
      "---\n",
      "\n",
      "Question: What prevents recursive methods from getting stuck in an endless cycle?\n",
      "\n",
      "Student Answer: Recursive methods need a base case, which is a condition that stops the recursion. If there is no base case, the recursion will continue indefinitely.\n",
      "\n",
      "Perfect Answer: The condition that prevents recurs\n",
      "\n",
      "\n",
      "\n"
     ]
    },
    {
     "data": {
      "text/plain": [
       "\"\\n\\n\\nGenerate a feedback and a score for student_answer based on perfect_answer where score is a string representing float value between 0 and 10.\\n\\n---\\n\\nFollow the following format.\\n\\nQuestion: ${question}\\n\\nStudent Answer: ${student_answer}\\n\\nPerfect Answer: use this to generate feedback and score.\\n\\nReasoning: Let's think step by step in order to ${produce the score}. We ...\\n\\nFeedback: a feedback for student's answer.\\n\\nScore: a score between 0 and 10 as a string. Must be able to convert to float\\n\\n---\\n\\nQuestion: What is the time complexity of the Karatsuba algorithm which is used for multiplying two integers?\\n\\nStudent Answer: The Karatsuba algorithm's time complexity is O(n^(log 3 base 2)), which is approximately O(n^1.585).\\n\\nPerfect Answer: The time complexity of Karatsuba algorithm is O(n^(log 3 base 2)), which is approximately O(n^1.585).\\n\\nReasoning: Let's think step by step in order to produce the score. We compare the student's answer with the perfect answer and evaluate the accuracy and precision.\\n\\nFeedback: The student's answer is exactly the same as the perfect answer. The student correctly identified the time complexity of the Karatsuba algorithm as O(n^(log 3 base 2)), which is approximately O(n^1.585).\\n\\nScore: 10\\n\\n---\\n\\nQuestion: What is the time complexity of the Karatsuba algorithm which is used for multiplying two integers?\\n\\nStudent Answer: O(n^1.6).\\n\\nPerfect Answer: The time complexity of Karatsuba algorithm is O(n^(log 3 base 2)), which is approximately O(n^1.585).\\n\\nReasoning: Let's think step by step in order to produce the score. We need to compare the student's answer with the perfect answer. The student's answer is close to the perfect answer, but not exactly the same. The time complexity of the Karatsuba algorithm is O(n^(log 3 base 2)), which is approximately equal to O(n^1.585), not O(n^1.6). Therefore, the student's answer is not entirely correct.\\n\\nFeedback: The student's answer is close, but not entirely correct. The time complexity of the Karatsuba algorithm is O(n^(log 3 base 2)), which is approximately equal to O(n^1.585), not O\\n\\nScore: 7 Feedback: The student's answer is close, but not entirely correct. The time complexity of the Karatsuba algorithm is O(n^(log 3 base 2)), which is approximately equal to O(n^1.585), not O(n^1.6). Therefore, the student's answer is close\\n\\n---\\n\\nQuestion: What is the time complexity of the Karatsuba algorithm which is used for multiplying two integers?\\n\\nStudent Answer: It is less than O(n^2).\\n\\nPerfect Answer: The time complexity of Karatsuba algorithm is O(n^(log 3 base 2)), which is approximately O(n^1.585).\\n\\nReasoning: Let's think step by step in order to produce the score. We need to consider both the accuracy and precision of the student's answer.\\n\\nFeedback: The student's answer is partially correct as it correctly identifies that the time complexity of the Karatsuba algorithm is less than O(n^2). However, the student's answer does not provide the exact time complexity of the Karatsuba algorithm. The perfect answer provides the exact time complexity of O(n^(log 3 base 2)), which is approximately O(n^1.585). Therefore, the student's answer is not precise enough.\\n\\nScore: 7.5 ---\\n\\n---\\n\\nQuestion: What is the time complexity of the Karatsuba algorithm which is used for multiplying two integers?\\n\\nStudent Answer: It is less than O(n^2) but more than O(n).\\n\\nPerfect Answer: The time complexity of Karatsuba algorithm is O(n^(log 3 base 2)), which is approximately O(n^1.585).\\n\\nReasoning: Let's think step by step in order to determine the score. We need to consider the accuracy of the student's answer, as well as their understanding of the concept.\\n\\nFeedback: The student's answer is partially correct, but lacks precision. While it is true that the Karatsuba algorithm has a time complexity that is less than O(n^2) and more than O(n), this answer does not provide a specific value for the time complexity. To improve the answer, the student could have looked up the exact time complexity or provided a more detailed explanation of why the time complexity is between O(n^2) and O(n).\\n\\nScore: 6.5\\n\\n---\\n\\nQuestion: What prevents recursive methods from getting stuck in an endless cycle?\\n\\nStudent Answer: There must be base cases, i.e, in these cases the function will not call itself again. In that case, every call to the function will terminate in finite number of steps.\\n\\nPerfect Answer: The condition that prevents recursive methods from getting stuck in an endless cycle is that there must be no infinite sequence of reductions to simpler and simpler instances. Eventually, the recursive reductions must lead to an elementary base case that can be solved by some other method.\\n\\nReasoning: Let's think step by step in order to\\x1b[32m produce the score. We need to compare the student's answer with the perfect answer and evaluate the accuracy and precision.\\n\\nFeedback: The student's answer is close to the perfect answer. The student correctly identified the need for base cases in recursive methods to prevent an endless cycle. However, the student's explanation could be more precise.\\n\\nScore: 8.5\\n\\n---\\n\\nQuestion: What prevents recursive methods from getting stuck in an endless cycle?\\n\\nStudent Answer: Recursive methods need a base case, which is a condition that stops the recursion. If there is no base case, the recursion will continue indefinitely.\\n\\nPerfect Answer: The condition that prevents recurs\\x1b[0m\\n\\n\\n\""
      ]
     },
     "execution_count": 18,
     "metadata": {},
     "output_type": "execute_result"
    }
   ],
   "source": [
    "turbo.inspect_history(n=1)"
   ]
  },
  {
   "cell_type": "code",
   "execution_count": 19,
   "id": "b9d3c0a0-1f60-4ac7-b7a3-045bf5bc40e3",
   "metadata": {},
   "outputs": [],
   "source": [
    "question3 = \"Explain the steps involved in merge sort and state the time complexity for each step.\""
   ]
  },
  {
   "cell_type": "code",
   "execution_count": 20,
   "id": "daaf91b6-85a9-4fc5-b100-36271fce004f",
   "metadata": {},
   "outputs": [],
   "source": [
    "perfect_answer3 = \"Suppose the time taken for merge sort on a list of n elements is T(n). Step 1 is to divide the list into two halves, which can be done in constant time. Step 2 is to recursively sort each of the two halves which can be done in T(n/2) time each. Step 3 is to merge the newly sorted arrays into a single sorted array which can be done in O(n) time.\""
   ]
  },
  {
   "cell_type": "code",
   "execution_count": 21,
   "id": "af2708f1-1083-499b-bc75-1b6f7a698ac5",
   "metadata": {},
   "outputs": [],
   "source": [
    "sa3_1 = \"Let the time taken for merge sort on a list of n elements be T(n). The first step is to divide the list into two halves, which can be done in constant time. Step 2 is to recursively sort each of the two halves which takes T(n/2) time each. The final step is to merge the newly sorted arrays into a single sorted array which can be done in O(n) time.\"\n",
    "sa3_2 = \"Step 1 is to divide the list into two halves. Step 2 is to recursively sort each of the two halves. Step 3 is to merge the newly sorted arrays into a single sorted array\""
   ]
  },
  {
   "cell_type": "code",
   "execution_count": 22,
   "id": "d0f67900-2c64-4cdc-8afe-b39609d7f2eb",
   "metadata": {},
   "outputs": [
    {
     "data": {
      "text/plain": [
       "Prediction(\n",
       "    rationale=\"produce the score. We need to compare the student's answer with the perfect answer and evaluate the accuracy and precision of each step.\",\n",
       "    feedback=\"The student's answer is very close to the perfect answer. The student correctly identified the steps involved in merge sort and the time complexity for each step, except for one minor mistake. In step 2, the student mentioned that sorting each half takes T(n/2) time, but it should be T(n/2) + c, where c is a constant. This is because sorting each half involves a recursive call, and the base case of the recursion has a time complexity of O(1), which is a constant.\",\n",
       "    score='9'\n",
       ")"
      ]
     },
     "execution_count": 22,
     "metadata": {},
     "output_type": "execute_result"
    }
   ],
   "source": [
    "optimized_cot(question = question3, perfect_answer = perfect_answer3, student_answer = sa3_1)"
   ]
  },
  {
   "cell_type": "code",
   "execution_count": 23,
   "id": "7dcac0c9-bcd4-4d3c-927f-e377b943ac1e",
   "metadata": {},
   "outputs": [
    {
     "data": {
      "text/plain": [
       "Prediction(\n",
       "    rationale=\"produce the score. We need to compare the student's answer with the perfect answer and evaluate the accuracy and completeness.\",\n",
       "    feedback=\"The student's answer is partially correct. The student correctly identified the three steps involved in merge sort, but did not provide the time complexity for each step. The time complexity for Step 1 is O(1), for Step 2 is T(n/2) + T(n/2) (which can be simplified to T(n/2) due to recursion), and for Step 3 is O(n). The perfect answer provides the time complexity for each step, which helps in understanding the overall time complexity of merge sort.\",\n",
       "    score='6'\n",
       ")"
      ]
     },
     "execution_count": 23,
     "metadata": {},
     "output_type": "execute_result"
    }
   ],
   "source": [
    "optimized_cot(question = question3, perfect_answer = perfect_answer3, student_answer = sa3_2)"
   ]
  },
  {
   "cell_type": "code",
   "execution_count": null,
   "id": "77c7450b-6023-4dc1-b035-fc92e674bbe6",
   "metadata": {},
   "outputs": [],
   "source": []
  }
 ],
 "metadata": {
  "kernelspec": {
   "display_name": "Python 3 (ipykernel)",
   "language": "python",
   "name": "python3"
  },
  "language_info": {
   "codemirror_mode": {
    "name": "ipython",
    "version": 3
   },
   "file_extension": ".py",
   "mimetype": "text/x-python",
   "name": "python",
   "nbconvert_exporter": "python",
   "pygments_lexer": "ipython3",
   "version": "3.12.3"
  }
 },
 "nbformat": 4,
 "nbformat_minor": 5
}
