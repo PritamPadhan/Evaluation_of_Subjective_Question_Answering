{
 "cells": [
  {
   "cell_type": "markdown",
   "id": "0d7636b1-6ac6-4b1c-ba45-459a6ee273f5",
   "metadata": {},
   "source": [
    "### Creating the dataset"
   ]
  },
  {
   "cell_type": "code",
   "execution_count": 1,
   "id": "2b15dc1e-d1a9-40bc-a567-47acf34aac75",
   "metadata": {},
   "outputs": [],
   "source": [
    "import pandas as pd"
   ]
  },
  {
   "cell_type": "code",
   "execution_count": 2,
   "id": "21a95331-a35d-45ed-a315-d8d0652c5764",
   "metadata": {},
   "outputs": [],
   "source": [
    "# pip install dspy-ai"
   ]
  },
  {
   "cell_type": "code",
   "execution_count": 3,
   "id": "64e2b390-24bc-4b85-8f80-649a0b26fa18",
   "metadata": {},
   "outputs": [],
   "source": [
    "import dspy"
   ]
  },
  {
   "cell_type": "code",
   "execution_count": 4,
   "id": "aa56d02b-b146-4725-894d-7939039264f1",
   "metadata": {},
   "outputs": [],
   "source": [
    "details = {\n",
    "    \"What is the difference between a stack and a queue?\": [\n",
    "        {\"answer\": \"A stack uses LIFO and a queue uses FIFO. Stacks are used for function calls and undo operations, while queues are used for task scheduling and buffers.\", \"feedback\": \"Perfect answer. Covers the principles, operations, and use cases comprehensively.\", \"score\": 10},\n",
    "        {\"answer\": \"Stacks use LIFO and queues use FIFO. Stacks are used for recursive functions and queues for task management.\", \"feedback\": \"Good. It correctly describes the principles and provides appropriate use cases.\", \"score\": 8},\n",
    "        {\"answer\": \"Stacks and queues both use FIFO. Stacks are for undo operations, queues for scheduling tasks.\", \"feedback\": \"Incorrect. The principles of stacks and queues are reversed.\", \"score\": 0},\n",
    "        {\"answer\": \"A stack operates with LIFO and a queue with FIFO principles. Stacks are used for recursion and queues for task management.\", \"feedback\": \"Partially correct. Correct principles but the answer misses details about operations.\", \"score\": 5},\n",
    "        {\"answer\": \"Stacks use FIFO, and queues use LIFO. Stacks are used for function calls and queues for managing tasks.\", \"feedback\": \"Totally incorrect. The principles are completely reversed.\", \"score\": 0},\n",
    "        {\"answer\": \"Stacks and queues are the same. They both follow LIFO principles.\", \"feedback\": \"Totally incorrect. Misunderstands the fundamental difference between stacks and queues.\", \"score\": 0},\n",
    "        {\"answer\": \"Stacks add and remove elements from the same end, while queues add elements at one end and remove them from the other.\", \"feedback\": \"Good explanation of operations but lacks detail about principles and use cases.\", \"score\": 6},\n",
    "        {\"answer\": \"Stacks are used for undo operations and queues for managing resources. Both use FIFO principles.\", \"feedback\": \"Incorrect. Misstates the principles and provides incorrect use cases.\", \"score\": 0},\n",
    "        {\"answer\": \"Stacks use LIFO and are used for undo operations. Queues use FIFO and are used for scheduling tasks.\", \"feedback\": \"Correct principles and use cases but lacks details about operations.\", \"score\": 7},\n",
    "        {\"answer\": \"Stacks and queues both use FIFO principles. Stacks are used for managing tasks and queues for function calls.\", \"feedback\": \"Totally incorrect. Confuses the principles and use cases.\", \"score\": 0},\n",
    "        {\"answer\": \"Stacks use LIFO and queues use FIFO. Stacks are used for function calls, and queues are used for buffering data.\", \"feedback\": \"Perfect answer. Covers principles, operations, and typical use cases comprehensively.\", \"score\": 9}\n",
    "    ],\n",
    "    \"What is the purpose of hashing in computer science?\": [\n",
    "        {\"answer\": \"Hashing is used to convert data into a fixed-size value for efficient data retrieval and storage. It helps in quick data access and collision handling.\", \"feedback\": \"Perfect answer. Clearly explains the purpose and benefits of hashing.\", \"score\": 10},\n",
    "        {\"answer\": \"Hashing converts data into a smaller value to speed up data retrieval. It's used to quickly access and store data.\", \"feedback\": \"Good. Provides a correct purpose of hashing but lacks detail on collision handling.\", \"score\": 8},\n",
    "        {\"answer\": \"Hashing is used to encrypt data for security purposes.\", \"feedback\": \"Incorrect. Hashing is not primarily used for encryption but for efficient data retrieval.\", \"score\": 1},\n",
    "        {\"answer\": \"Hashing is a technique to map data to a fixed size for quick access. It also deals with collisions.\", \"feedback\": \"Good explanation but could mention its use in hash tables more explicitly.\", \"score\": 7},\n",
    "        {\"answer\": \"Hashing is used to sort data.\", \"feedback\": \"Totally incorrect. Hashing is not used for sorting data.\", \"score\": 0},\n",
    "        {\"answer\": \"Hashing helps to index data and improve retrieval speed.\", \"feedback\": \"Correct but lacks detail about collision handling and the hashing process.\", \"score\": 6},\n",
    "        {\"answer\": \"Hashing converts data into hash codes for security purposes.\", \"feedback\": \"Incorrect. Hashing is for data retrieval, not primarily for security.\", \"score\": 1},\n",
    "        {\"answer\": \"Hashing is used to store data in a table format.\", \"feedback\": \"Partially correct. Hashing is used for data retrieval and storage, but the answer is too vague.\", \"score\": 4},\n",
    "        {\"answer\": \"Hashing maps data into fixed-size values for fast retrieval and minimizes collisions in hash tables.\", \"feedback\": \"Excellent. Covers the purpose of hashing and collision management.\", \"score\": 9},\n",
    "        {\"answer\": \"Hashing is a method for encrypting data securely.\", \"feedback\": \"Totally incorrect. Misunderstands the purpose of hashing.\", \"score\": 0},\n",
    "        {\"answer\": \"Hashing is used to convert data into a unique identifier for efficient data access and collision handling.\", \"feedback\": \"Perfect. Comprehensive explanation including unique identifier and collision handling.\", \"score\": 10}\n",
    "    ],\n",
    "    \"What are the main characteristics of a binary search tree (BST)?\": [\n",
    "        {\"answer\": \"A binary search tree (BST) is a data structure where each node has at most two children, and for each node, all values in the left subtree are less than the node's value, and all values in the right subtree are greater. It allows for efficient searching, insertion, and deletion.\", \"feedback\": \"Perfect. Thorough and clear description of BST characteristics.\", \"score\": 10},\n",
    "        {\"answer\": \"A binary search tree has nodes with at most two children, and left children are smaller than the node, right children are larger. It supports fast searching and insertion.\", \"feedback\": \"Good. Accurate characteristics but could mention deletion as well.\", \"score\": 8},\n",
    "        {\"answer\": \"A BST is a tree where nodes can have up to three children and the left node is always smaller.\", \"feedback\": \"Incorrect. Misstates the number of children and the properties of BST.\", \"score\": 0},\n",
    "        {\"answer\": \"In a binary search tree, each node has at most two children and values in the left subtree are smaller than the node's value.\", \"feedback\": \"Correct but lacks mention of the right subtree and some operations.\", \"score\": 6},\n",
    "        {\"answer\": \"Binary search trees allow for efficient searching and insertion of nodes.\", \"feedback\": \"Partially correct. Lacks information on node values and structure.\", \"score\": 4},\n",
    "        {\"answer\": \"Each node in a BST has up to two children, and left children are always smaller than the node. Right children are larger or smaller depending on the node's value.\", \"feedback\": \"Partially correct but confusing about right children.\", \"score\": 5},\n",
    "        {\"answer\": \"A BST is a type of binary tree where each node has up to two children and left nodes are always greater.\", \"feedback\": \"Incorrect. Misstates the property of left nodes being smaller.\", \"score\": 1},\n",
    "        {\"answer\": \"A BST allows nodes to have up to two children and sorts values in ascending order.\", \"feedback\": \"Partially correct. Lacks detail on specific properties and operations.\", \"score\": 5},\n",
    "        {\"answer\": \"A binary search tree has nodes where each node has exactly two children, and it supports searching and sorting operations.\", \"feedback\": \"Incorrect. A BST does not require nodes to have exactly two children.\", \"score\": 2},\n",
    "        {\"answer\": \"A BST is a tree structure where nodes are unordered and can have any number of children.\", \"feedback\": \"Totally incorrect. Misunderstands the fundamental properties of a BST.\", \"score\": 0},\n",
    "        {\"answer\": \"A binary search tree (BST) is a tree with up to two children per node. In-order traversal of a BST produces sorted values, and it supports efficient search, insertion, and deletion operations.\", \"feedback\": \"Perfect. Comprehensive answer covering all key aspects.\", \"score\": 10}\n",
    "    ],\n",
    "    \"What is dynamic programming and when is it used?\": [\n",
    "        {\"answer\": \"Dynamic programming is a method for solving complex problems by breaking them down into simpler subproblems and solving each subproblem just once, storing the results to avoid redundant work. It is used for optimization problems like the knapsack problem or shortest path problems.\", \"feedback\": \"Perfect. Clearly explains dynamic programming and its use cases.\", \"score\": 10},\n",
    "        {\"answer\": \"Dynamic programming is a technique to solve problems by breaking them into smaller parts and solving each part only once. It's used for optimization problems.\", \"feedback\": \"Good. Accurately describes dynamic programming and its purpose but lacks specific examples.\", \"score\": 8},\n",
    "        {\"answer\": \"Dynamic programming is used to solve problems that can be broken down into smaller problems and involves recursion.\", \"feedback\": \"Partially correct. Describes the concept but lacks details about memoization and specific use cases.\", \"score\": 5},\n",
    "        {\"answer\": \"Dynamic programming is a method to solve optimization problems by storing intermediate results to avoid redundant calculations.\", \"feedback\": \"Correct but could include more about the process and examples of use cases.\", \"score\": 6},\n",
    "        {\"answer\": \"Dynamic programming is a technique to make programming more dynamic.\", \"feedback\": \"Totally incorrect. Misunderstands the concept of dynamic programming.\", \"score\": 0},\n",
    "        {\"answer\": \"Dynamic programming solves problems by solving subproblems recursively and using a divide-and-conquer approach.\", \"feedback\": \"Partially correct. It should focus more on the memoization and storage of results.\", \"score\": 4},\n",
    "        {\"answer\": \"Dynamic programming uses memoization to solve problems faster.\", \"feedback\": \"Incorrect. Memoization is part of dynamic programming but does not fully describe the method.\", \"score\": 3},\n",
    "        {\"answer\": \"Dynamic programming is used for problems that cannot be broken into subproblems.\", \"feedback\": \"Incorrect. Dynamic programming is specifically for problems that can be broken down into subproblems.\", \"score\": 0},\n",
    "        {\"answer\": \"Dynamic programming optimizes solutions by storing results of computations to avoid redundant work and is used in problems like shortest paths or sequence alignment.\", \"feedback\": \"Excellent. Thorough explanation covering both concept and use cases.\", \"score\": 9},\n",
    "        {\"answer\": \"Dynamic programming involves solving problems with complex algorithms that change dynamically.\", \"feedback\": \"Totally incorrect. Misunderstands dynamic programming.\", \"score\": 0},\n",
    "        {\"answer\": \"Dynamic programming solves problems by breaking them into smaller subproblems, storing results, and using these results to build up the final solution. It is used for problems like the longest common subsequence and shortest paths.\", \"feedback\": \"Perfect. Comprehensive answer explaining dynamic programming and its applications.\", \"score\": 10}\n",
    "    ],\n",
    "    \"What is the difference between a compiler and an interpreter?\": [\n",
    "        {\"answer\": \"A compiler translates the entire source code into machine code at once and creates an executable file, while an interpreter translates source code line-by-line and executes it directly. Compilers generally provide faster execution time, while interpreters offer more flexibility and easier debugging.\", \"feedback\": \"Perfect. Accurately describes both compiler and interpreter functions, including execution and debugging differences.\", \"score\": 10},\n",
    "        {\"answer\": \"A compiler translates the whole program into machine code, while an interpreter translates and executes code line-by-line. Compilers are usually faster in execution.\", \"feedback\": \"Good. Covers the basic differences between compiler and interpreter but lacks detail on debugging and flexibility.\", \"score\": 8},\n",
    "        {\"answer\": \"A compiler executes code line-by-line, and an interpreter translates the entire code at once.\", \"feedback\": \"Incorrect. The functions of compiler and interpreter are reversed.\", \"score\": 1},\n",
    "        {\"answer\": \"Compilers and interpreters both translate code into machine language, but interpreters do it faster.\", \"feedback\": \"Incorrect. Misunderstands the fundamental differences in translation and execution between compilers and interpreters.\", \"score\": 0},\n",
    "        {\"answer\": \"Compilers translate code into machine code at once, while interpreters execute the code line-by-line.\", \"feedback\": \"Partially correct. Accurately describes basic differences but lacks information on execution speed and debugging.\", \"score\": 6},\n",
    "        {\"answer\": \"A compiler translates high-level code into assembly language, while an interpreter directly executes the high-level code.\", \"feedback\": \"Incorrect. Compilers do not necessarily translate code into assembly language and interpreters execute high-level code directly.\", \"score\": 0},\n",
    "        {\"answer\": \"Compilers translate code to machine language and create an executable file, whereas interpreters translate and run code directly.\", \"feedback\": \"Correct. Explains key differences but could mention execution speed and debugging aspects.\", \"score\": 7},\n",
    "        {\"answer\": \"Interpreters translate code into machine language and compilers execute it line-by-line.\", \"feedback\": \"Totally incorrect. Reverses the functions of compilers and interpreters.\", \"score\": 0},\n",
    "        {\"answer\": \"A compiler creates an executable file from source code, while an interpreter runs the source code directly without creating a file.\", \"feedback\": \"Good explanation of the fundamental differences but lacks detail about execution speed and flexibility.\", \"score\": 8},\n",
    "        {\"answer\": \"Compilers and interpreters both convert code into machine language. Compilers do it faster, and interpreters do it slower.\", \"feedback\": \"Incorrect. The explanation is too vague and does not accurately describe the differences.\", \"score\": 2},\n",
    "        {\"answer\": \"A compiler translates the whole program into machine code, which can be executed multiple times, while an interpreter executes code directly and is useful for debugging.\", \"feedback\": \"Excellent. Comprehensive answer including both differences in execution and debugging.\", \"score\": 9}\n",
    "    ],\n",
    "    \"What is the purpose of normalization in database design?\": [\n",
    "        {\"answer\": \"Normalization is the process of organizing data in a database to reduce redundancy and improve data integrity. It involves dividing a database into two or more tables and defining relationships between them.\", \"feedback\": \"Perfect. Clearly explains the purpose and process of normalization in database design.\", \"score\": 10},\n",
    "        {\"answer\": \"Normalization organizes data to reduce redundancy and improve efficiency. It involves breaking down tables and defining relationships.\", \"feedback\": \"Good. Accurate description of the purpose but lacks detail on the process.\", \"score\": 8},\n",
    "        {\"answer\": \"Normalization is used to ensure data is encrypted and secure.\", \"feedback\": \"Incorrect. Misunderstands the purpose of normalization, which is not related to data security.\", \"score\": 0},\n",
    "        {\"answer\": \"Normalization organizes data to avoid redundancy and involves creating separate tables for different data categories.\", \"feedback\": \"Partially correct. Correctly identifies the purpose but lacks detail on relationships between tables.\", \"score\": 6},\n",
    "        {\"answer\": \"Normalization is used to sort data efficiently.\", \"feedback\": \"Totally incorrect. Misunderstands the concept of normalization.\", \"score\": 0},\n",
    "        {\"answer\": \"Normalization reduces data redundancy and organizes tables by ensuring that each table contains only one type of data.\", \"feedback\": \"Partially correct. Provides some information on reducing redundancy but lacks details on relationships and process.\", \"score\": 5},\n",
    "        {\"answer\": \"Normalization helps in indexing data efficiently.\", \"feedback\": \"Incorrect. Normalization is not primarily about indexing data.\", \"score\": 1},\n",
    "        {\"answer\": \"Normalization involves breaking a database into smaller tables to improve performance.\", \"feedback\": \"Partially correct. Mentions breaking tables but lacks detail about reducing redundancy and improving integrity.\", \"score\": 4},\n",
    "        {\"answer\": \"Normalization is a process of arranging data in a database to reduce redundancy and improve data integrity by creating related tables.\", \"feedback\": \"Excellent. Covers the purpose, process, and benefits of normalization comprehensively.\", \"score\": 9},\n",
    "        {\"answer\": \"Normalization involves organizing data to make it more secure.\", \"feedback\": \"Totally incorrect. Misunderstands the purpose of normalization.\", \"score\": 0},\n",
    "        {\"answer\": \"Normalization is used to structure data in a database, making it less redundant and more consistent by defining relationships among tables.\", \"feedback\": \"Perfect. Detailed explanation of the purpose and process of normalization.\", \"score\": 10}\n",
    "    ],\n",
    "    \"Explain the concept of a deadlock in operating systems and how it can be prevented.\": [\n",
    "        {\"answer\": \"A deadlock is a situation in operating systems where two or more processes are unable to proceed because each is waiting for the other to release resources. It can be prevented using strategies such as resource allocation graphs, deadlock detection and recovery, and employing policies like the Banker's algorithm.\", \"feedback\": \"Perfect. Comprehensive explanation of deadlock and prevention methods.\", \"score\": 10},\n",
    "        {\"answer\": \"A deadlock occurs when processes are stuck waiting for resources held by each other. It can be prevented by using resource allocation graphs or detection and recovery techniques.\", \"feedback\": \"Good. Accurately describes deadlock and mentions some prevention methods but lacks detail.\", \"score\": 8},\n",
    "        {\"answer\": \"Deadlock is when processes are unable to finish because they are waiting for each other. It can be prevented by avoiding simultaneous resource requests.\", \"feedback\": \"Partially correct. Provides a basic understanding but lacks detail on specific prevention techniques.\", \"score\": 5},\n",
    "        {\"answer\": \"Deadlock occurs when processes are in a cyclic wait state. Prevention involves resource allocation strategies and algorithms.\", \"feedback\": \"Partially correct. Describes the concept of deadlock and some prevention methods but lacks clarity.\", \"score\": 6},\n",
    "        {\"answer\": \"Deadlock is a situation where resources are locked, preventing processes from executing. It can be avoided by ensuring no circular wait conditions.\", \"feedback\": \"Partially correct but lacks details on specific prevention strategies and detection methods.\", \"score\": 4},\n",
    "        {\"answer\": \"Deadlock is a system crash due to resource conflicts.\", \"feedback\": \"Totally incorrect. Misunderstands the concept of deadlock in operating systems.\", \"score\": 0},\n",
    "        {\"answer\": \"Deadlock occurs when processes are waiting indefinitely for resources, and it can be prevented by ensuring proper resource allocation policies.\", \"feedback\": \"Partially correct. Describes deadlock but lacks detail on specific prevention techniques.\", \"score\": 5},\n",
    "        {\"answer\": \"Deadlock is when resources are locked and cannot be accessed by other processes. Prevention includes using algorithms and avoiding simultaneous requests.\", \"feedback\": \"Incorrect. Misunderstands the concept and prevention techniques.\", \"score\": 2},\n",
    "        {\"answer\": \"Deadlock happens when processes cannot proceed because they are waiting for resources. Prevention methods include using mutual exclusion and avoiding circular waits.\", \"feedback\": \"Excellent. Covers the concept and prevention methods with specific techniques.\", \"score\": 9},\n",
    "        {\"answer\": \"Deadlock is when processes are waiting for each other to release resources and can be prevented by increasing system resources.\", \"feedback\": \"Totally incorrect. Misunderstands the prevention methods for deadlock.\", \"score\": 0},\n",
    "        {\"answer\": \"A deadlock in operating systems is when processes get stuck in a loop waiting for resources. It can be prevented by using the Banker's algorithm and avoiding circular wait conditions.\", \"feedback\": \"Perfect. Comprehensive explanation with clear mention of deadlock and prevention techniques.\", \"score\": 10}\n",
    "    ],\n",
    "    \"Describe the differences between synchronous and asynchronous communication in distributed systems.\": [\n",
    "        {\"answer\": \"Synchronous communication requires all participants to be active and exchange messages at the same time, while asynchronous communication allows participants to send and receive messages at different times. Synchronous communication is more straightforward but can lead to blocking, whereas asynchronous communication is more flexible and can handle delays.\", \"feedback\": \"Perfect. Detailed description of both types of communication and their characteristics.\", \"score\": 10},\n",
    "        {\"answer\": \"Synchronous communication requires participants to be active at the same time, while asynchronous communication allows messages to be sent and received at different times. Asynchronous communication is more flexible.\", \"feedback\": \"Good. Describes the key differences but lacks detail on blocking and handling delays.\", \"score\": 8},\n",
    "        {\"answer\": \"Synchronous communication blocks until a message is received, while asynchronous communication does not block.\", \"feedback\": \"Partially correct. Describes the blocking aspect but lacks information on timing and flexibility.\", \"score\": 6},\n",
    "        {\"answer\": \"Synchronous communication happens in real-time, while asynchronous communication allows for delays and does not require participants to be active simultaneously.\", \"feedback\": \"Good explanation but lacks detail on blocking and message exchange.\", \"score\": 7},\n",
    "        {\"answer\": \"Synchronous communication is faster than asynchronous communication.\", \"feedback\": \"Incorrect. The statement does not accurately describe the differences between synchronous and asynchronous communication.\", \"score\": 0},\n",
    "        {\"answer\": \"Synchronous communication requires participants to exchange messages in real-time, while asynchronous communication does not require simultaneous activity.\", \"feedback\": \"Partially correct. Missing details about the blocking and flexibility of communication types.\", \"score\": 5},\n",
    "        {\"answer\": \"Synchronous communication does not allow delays, whereas asynchronous communication handles delays.\", \"feedback\": \"Partially correct. Describes delays but lacks a full explanation of both types.\", \"score\": 4},\n",
    "        {\"answer\": \"Synchronous communication allows for message exchange at different times, while asynchronous communication requires real-time interaction.\", \"feedback\": \"Incorrect. Reverses the characteristics of synchronous and asynchronous communication.\", \"score\": 0},\n",
    "        {\"answer\": \"Synchronous communication requires participants to be available at the same time, while asynchronous communication allows for communication at different times and handles delays.\", \"feedback\": \"Excellent. Thorough explanation covering both characteristics and handling of delays.\", \"score\": 9},\n",
    "        {\"answer\": \"Synchronous communication is more flexible than asynchronous communication.\", \"feedback\": \"Totally incorrect. Misunderstands the flexibility and characteristics of both communication types.\", \"score\": 0},\n",
    "        {\"answer\": \"Synchronous communication requires simultaneous activity for message exchange, whereas asynchronous communication allows participants to send and receive messages at different times and handles delays more effectively.\", \"feedback\": \"Perfect. Comprehensive and detailed description of both types of communication.\", \"score\": 10}\n",
    "    ],\n",
    "    \"What are the benefits of using a linked list over an array?\": [\n",
    "        {\"answer\": \"Linked lists allow for dynamic memory allocation and efficient insertion and deletion of elements at any position, while arrays have fixed size and require shifting elements for insertions and deletions. Linked lists are preferable for applications where the size of the list changes frequently.\", \"feedback\": \"Perfect. Covers the main benefits of linked lists compared to arrays with clear explanations.\", \"score\": 10},\n",
    "        {\"answer\": \"Linked lists are more flexible than arrays because they allow dynamic memory allocation and easier insertion and deletion of elements.\", \"feedback\": \"Good. Accurately describes the benefits but lacks detail on fixed size and element shifting for arrays.\", \"score\": 8},\n",
    "        {\"answer\": \"Linked lists have fixed size and arrays have dynamic size.\", \"feedback\": \"Incorrect. Misstates the characteristics of linked lists and arrays.\", \"score\": 0},\n",
    "        {\"answer\": \"Linked lists are better than arrays because they can be resized and elements can be added or removed more efficiently.\", \"feedback\": \"Partially correct. Mentions dynamic resizing and efficient operations but lacks details on fixed size and element shifting for arrays.\", \"score\": 5},\n",
    "        {\"answer\": \"Arrays are better than linked lists for inserting and deleting elements.\", \"feedback\": \"Totally incorrect. Misunderstands the efficiency of insertion and deletion in linked lists compared to arrays.\", \"score\": 0},\n",
    "        {\"answer\": \"Linked lists are useful for applications with frequent insertions and deletions, while arrays are better for static data storage.\", \"feedback\": \"Partially correct. Highlights the benefits of linked lists but lacks detail on fixed size and shifting in arrays.\", \"score\": 6},\n",
    "        {\"answer\": \"Linked lists can grow in size dynamically, whereas arrays are fixed in size and need resizing.\", \"feedback\": \"Partially correct. Mentions dynamic growth but lacks detail on insertion and deletion efficiency.\", \"score\": 5},\n",
    "        {\"answer\": \"Linked lists are better for applications with unpredictable data size because they can easily grow and shrink.\", \"feedback\": \"Partially correct. Good point on dynamic size but lacks details on insertion and deletion efficiency.\", \"score\": 4},\n",
    "        {\"answer\": \"Linked lists allow for efficient memory usage because they do not require a contiguous block of memory like arrays.\", \"feedback\": \"Good but lacks detail on insertion and deletion efficiency and comparison with arrays.\", \"score\": 7},\n",
    "        {\"answer\": \"Linked lists are good for situations where the data size is fixed, and arrays are better for dynamic sizes.\", \"feedback\": \"Totally incorrect. Misstates the benefits of linked lists and arrays.\", \"score\": 0},\n",
    "        {\"answer\": \"Linked lists provide efficient insertion and deletion at any position, use less memory, and do not require contiguous memory. Arrays, however, are fixed in size and require shifting elements for modifications.\", \"feedback\": \"Perfect. Comprehensive explanation of benefits with clear comparisons.\", \"score\": 10}\n",
    "    ],\n",
    "    \"Explain the concept of a priority queue and its typical use cases.\": [\n",
    "        {\"answer\": \"A priority queue is a data structure that allows for elements to be inserted with a priority and ensures that the element with the highest priority is removed first. It is typically implemented using heaps and is used in applications such as scheduling tasks, Dijkstra's shortest path algorithm, and A* search algorithm.\", \"feedback\": \"Perfect. Comprehensive explanation of priority queue and its typical use cases.\", \"score\": 10},\n",
    "        {\"answer\": \"A priority queue stores elements with associated priorities and removes the element with the highest priority first. It is used in scheduling and pathfinding algorithms.\", \"feedback\": \"Good. Accurately describes the concept and some use cases but lacks detail on implementation.\", \"score\": 8},\n",
    "        {\"answer\": \"A priority queue is a data structure that allows inserting and removing elements based on priority.\", \"feedback\": \"Partially correct. Describes the basic concept but lacks details on implementation and use cases.\", \"score\": 5},\n",
    "        {\"answer\": \"In a priority queue, elements are removed in the order they are added.\", \"feedback\": \"Incorrect. Misunderstands the priority-based removal in a priority queue.\", \"score\": 0},\n",
    "        {\"answer\": \"A priority queue sorts elements by priority and uses heaps for efficient operations.\", \"feedback\": \"Partially correct. Good description of sorting and heaps but lacks detail on use cases.\", \"score\": 6},\n",
    "        {\"answer\": \"A priority queue allows elements to be accessed based on their insertion order.\", \"feedback\": \"Totally incorrect. Misunderstands the concept of priority in a priority queue.\", \"score\": 0},\n",
    "        {\"answer\": \"A priority queue is used for managing tasks with different priorities and ensures that high-priority tasks are executed first.\", \"feedback\": \"Partially correct. Good description of use cases but lacks details on the structure and operations.\", \"score\": 5},\n",
    "        {\"answer\": \"Priority queues are used for managing tasks and scheduling, where tasks with higher priority are handled first.\", \"feedback\": \"Partially correct. Describes some use cases but lacks information on how the priority queue is structured and implemented.\", \"score\": 4},\n",
    "        {\"answer\": \"A priority queue organizes data so that the highest priority element is always at the front, and it's used in algorithms like Dijkstra's and A* search.\", \"feedback\": \"Excellent. Covers the concept and typical use cases comprehensively.\", \"score\": 9},\n",
    "        {\"answer\": \"Priority queues are used for sorting elements based on priority and are generally implemented using arrays.\", \"feedback\": \"Incorrect. Misunderstands the implementation and usage of priority queues.\", \"score\": 2},\n",
    "        {\"answer\": \"A priority queue manages elements based on priority, removing the highest priority element first, and is used in various algorithms like scheduling and shortest path algorithms.\", \"feedback\": \"Perfect. Thorough explanation including structure, operations, and use cases.\", \"score\": 10}\n",
    "    ],\n",
    "    \"What is a graph traversal algorithm? Name and describe two common types.\": [\n",
    "        {\"answer\": \"Graph traversal algorithms are methods for visiting all the nodes in a graph. Two common types are Depth-First Search (DFS) and Breadth-First Search (BFS). DFS explores as far as possible along each branch before backtracking, while BFS explores all neighbors at the present depth level before moving on to nodes at the next depth level.\", \"feedback\": \"Perfect. Thorough explanation of graph traversal algorithms with clear descriptions of DFS and BFS.\", \"score\": 10},\n",
    "        {\"answer\": \"Graph traversal algorithms are used to visit nodes in a graph. Depth-First Search (DFS) and Breadth-First Search (BFS) are common types. DFS goes deep into the graph, and BFS explores level by level.\", \"feedback\": \"Good. Correctly describes both DFS and BFS but lacks detail on the specific traversal methods.\", \"score\": 8},\n",
    "        {\"answer\": \"Graph traversal algorithms are used to navigate through graphs. Depth-First Search (DFS) and Breadth-First Search (BFS) are two types where DFS explores nodes deeply, and BFS explores nodes broadly.\", \"feedback\": \"Partially correct. Provides a basic description but lacks detail on the traversal order.\", \"score\": 6},\n",
    "        {\"answer\": \"A graph traversal algorithm visits nodes in a graph, and two types are DFS and BFS. DFS visits nodes in a random order, while BFS visits nodes in a sequential manner.\", \"feedback\": \"Incorrect. Misunderstands the traversal order of DFS and BFS.\", \"score\": 2},\n",
    "        {\"answer\": \"Graph traversal algorithms include Depth-First Search (DFS), which explores the graph deeply, and Breadth-First Search (BFS), which explores nodes level by level.\", \"feedback\": \"Partially correct. Provides basic descriptions but could be more detailed.\", \"score\": 7},\n",
    "        {\"answer\": \"DFS explores nodes by moving from one node to another in a random order, while BFS explores nodes by visiting all neighbors first before moving on.\", \"feedback\": \"Incorrect. Misunderstands the traversal methods of DFS and BFS.\", \"score\": 3},\n",
    "        {\"answer\": \"Graph traversal algorithms include BFS, which is used for finding shortest paths, and DFS, which is used for detecting cycles.\", \"feedback\": \"Partially correct. Mentions use cases but lacks full explanation of traversal methods.\", \"score\": 5},\n",
    "        {\"answer\": \"DFS visits all nodes before backtracking, while BFS visits all nodes at the current level before moving to the next level.\", \"feedback\": \"Good. Describes the traversal methods but lacks overall explanation of graph traversal algorithms.\", \"score\": 7},\n",
    "        {\"answer\": \"A graph traversal algorithm is used to find paths in a graph, and common types include DFS, which goes deep into a branch, and BFS, which explores nodes layer by layer.\", \"feedback\": \"Excellent. Thorough explanation with clear descriptions of both traversal types.\", \"score\": 9},\n",
    "        {\"answer\": \"Graph traversal algorithms are used for sorting graphs, and common types include DFS and BFS, which both involve random node exploration.\", \"feedback\": \"Incorrect. Misunderstands the purpose of graph traversal algorithms and their methods.\", \"score\": 0},\n",
    "        {\"answer\": \"Graph traversal algorithms are methods for visiting all nodes in a graph. Depth-First Search (DFS) and Breadth-First Search (BFS) are two common types where DFS explores nodes as far as possible before backtracking, and BFS explores all neighboring nodes at the present depth level before moving on to nodes at the next level.\", \"feedback\": \"Perfect. Detailed and accurate explanation of both traversal methods.\", \"score\": 10}\n",
    "    ]\n",
    "}\n"
   ]
  },
  {
   "cell_type": "code",
   "execution_count": 5,
   "id": "ac634299-c590-47f0-a600-7d4fbe95c559",
   "metadata": {},
   "outputs": [
    {
     "data": {
      "text/plain": [
       "['What is the difference between a stack and a queue?',\n",
       " 'What is the purpose of hashing in computer science?',\n",
       " 'What are the main characteristics of a binary search tree (BST)?',\n",
       " 'What is dynamic programming and when is it used?',\n",
       " 'What is the difference between a compiler and an interpreter?',\n",
       " 'What is the purpose of normalization in database design?',\n",
       " 'Explain the concept of a deadlock in operating systems and how it can be prevented.',\n",
       " 'Describe the differences between synchronous and asynchronous communication in distributed systems.',\n",
       " 'What are the benefits of using a linked list over an array?',\n",
       " 'Explain the concept of a priority queue and its typical use cases.',\n",
       " 'What is a graph traversal algorithm? Name and describe two common types.']"
      ]
     },
     "execution_count": 5,
     "metadata": {},
     "output_type": "execute_result"
    }
   ],
   "source": [
    "list_of_questions = list(details.keys())\n",
    "questions = []\n",
    "for i in range(len(list_of_questions)):\n",
    "    questions.extend(len(details[list_of_questions[i]])*[list_of_questions[i]])\n",
    "list_of_questions"
   ]
  },
  {
   "cell_type": "code",
   "execution_count": 6,
   "id": "ce5a158e-3073-4042-a446-76788c2eb3c6",
   "metadata": {},
   "outputs": [
    {
     "data": {
      "text/plain": [
       "121"
      ]
     },
     "execution_count": 6,
     "metadata": {},
     "output_type": "execute_result"
    }
   ],
   "source": [
    "list_of_perfect_answers = [\n",
    "    \"A stack is a data structure that follows the Last In, First Out (LIFO) principle, where elements are added and removed from the same end called the top. A queue, on the other hand, follows the First In, First Out (FIFO) principle, where elements are added at the rear and removed from the front.\",\n",
    "    \n",
    "    \"Hashing is a technique used in computer science to efficiently map data of arbitrary size to fixed-size values using a hash function. It is commonly used in hash tables to allow quick data retrieval, insertion, and deletion operations by reducing the complexity of searching for an item in large datasets.\",\n",
    "    \n",
    "    \"A binary search tree (BST) is a binary tree where each node has at most two children, known as the left and right child. The key characteristics of a BST are that for any given node, all elements in the left subtree are less than the node's key, and all elements in the right subtree are greater than the node's key.\",\n",
    "    \n",
    "    \"Dynamic programming is a method for solving complex problems by breaking them down into simpler subproblems and solving each subproblem only once, storing the results to avoid redundant work. It is used in optimization problems where decisions are made in stages, such as in shortest path problems, sequence alignment, and knapsack problems.\",\n",
    "    \n",
    "    \"A compiler translates the entire source code into machine code at once, creating an executable file, while an interpreter translates and executes source code line-by-line. Compilers generally offer faster execution time due to precompiled code, while interpreters provide easier debugging and more flexibility during development.\",\n",
    "    \n",
    "    \"Normalization is the process of organizing data in a database to reduce redundancy and improve data integrity. It involves dividing a database into two or more tables and defining relationships between them to ensure that each piece of data is stored only once and dependencies are properly managed.\",\n",
    "    \n",
    "    \"A deadlock is a situation where two or more processes are unable to proceed because each is waiting for the other to release resources. It can be prevented through strategies such as ensuring resource allocation order, avoiding circular wait conditions, or using algorithms like the Banker's algorithm to allocate resources safely and avoid deadlock scenarios.\",\n",
    "    \n",
    "    \"Synchronous communication requires all participants to exchange messages at the same time, resulting in blocking if one participant is delayed. Asynchronous communication allows participants to send and receive messages independently, leading to more flexibility and handling of delays without blocking the entire system.\",\n",
    "    \n",
    "    \"Linked lists allow for dynamic memory allocation, efficient insertion, and deletion of elements at any position, whereas arrays have a fixed size and require shifting of elements for insertions and deletions. Linked lists are particularly beneficial for applications with frequent size changes and where memory usage needs to be optimized.\",\n",
    "    \n",
    "    \"A priority queue is a data structure where each element has a priority, and elements with higher priority are served before those with lower priority. It is commonly implemented using heaps and is used in scenarios such as task scheduling, Dijkstra's shortest path algorithm, and managing events in simulation systems.\",\n",
    "    \n",
    "    \"Graph traversal algorithms are methods for visiting all nodes in a graph. Two common types are Depth-First Search (DFS), which explores as far as possible along each branch before backtracking, and Breadth-First Search (BFS), which explores all neighbors at the present depth level before moving on to nodes at the next depth level.\"\n",
    "]\n",
    "\n",
    "perfect_answers = []\n",
    "for i in range(len(list_of_perfect_answers)):\n",
    "    perfect_answers.extend(len(details[list_of_questions[i]])*[list_of_perfect_answers[i]])\n",
    "len(perfect_answers)"
   ]
  },
  {
   "cell_type": "code",
   "execution_count": 7,
   "id": "85fa823a-49f2-4167-997d-cd6ab154b0bb",
   "metadata": {},
   "outputs": [
    {
     "data": {
      "text/plain": [
       "121"
      ]
     },
     "execution_count": 7,
     "metadata": {},
     "output_type": "execute_result"
    }
   ],
   "source": [
    "student_answers = []\n",
    "for i in range(len(list_of_questions)):\n",
    "    question = list_of_questions[i]\n",
    "    student_answers.extend([result[\"answer\"] for result in details[question]])\n",
    "len(student_answers)"
   ]
  },
  {
   "cell_type": "code",
   "execution_count": 8,
   "id": "4fe60ff0-3d6c-4350-bc18-e2b727bcda20",
   "metadata": {},
   "outputs": [
    {
     "data": {
      "text/plain": [
       "121"
      ]
     },
     "execution_count": 8,
     "metadata": {},
     "output_type": "execute_result"
    }
   ],
   "source": [
    "feedbacks = []\n",
    "for i in range(len(list_of_questions)):\n",
    "    question = list_of_questions[i]\n",
    "    feedbacks.extend([result[\"feedback\"] for result in details[question]])\n",
    "len(feedbacks)"
   ]
  },
  {
   "cell_type": "code",
   "execution_count": 9,
   "id": "018d8a15-3c36-4d45-9cb8-fc328e763962",
   "metadata": {},
   "outputs": [],
   "source": [
    "scores = []\n",
    "for i in range(len(list_of_questions)):\n",
    "    question = list_of_questions[i]\n",
    "    scores.extend([str(result[\"score\"]) for result in details[question]])"
   ]
  },
  {
   "cell_type": "code",
   "execution_count": 10,
   "id": "d2e1f44d-4b53-4fbf-bafc-a319b81ff215",
   "metadata": {},
   "outputs": [
    {
     "name": "stdout",
     "output_type": "stream",
     "text": [
      "[Example({'question': 'What is the difference between a stack and a queue?', 'student_answer': 'A stack uses LIFO and a queue uses FIFO. Stacks are used for function calls and undo operations, while queues are used for task scheduling and buffers.', 'perfect_answer': 'A stack is a data structure that follows the Last In, First Out (LIFO) principle, where elements are added and removed from the same end called the top. A queue, on the other hand, follows the First In, First Out (FIFO) principle, where elements are added at the rear and removed from the front.', 'feedback': 'Perfect answer. Covers the principles, operations, and use cases comprehensively.', 'score': '10'}) (input_keys={'question', 'perfect_answer', 'student_answer'}), Example({'question': 'What is the difference between a stack and a queue?', 'student_answer': 'Stacks use LIFO and queues use FIFO. Stacks are used for recursive functions and queues for task management.', 'perfect_answer': 'A stack is a data structure that follows the Last In, First Out (LIFO) principle, where elements are added and removed from the same end called the top. A queue, on the other hand, follows the First In, First Out (FIFO) principle, where elements are added at the rear and removed from the front.', 'feedback': 'Good. It correctly describes the principles and provides appropriate use cases.', 'score': '8'}) (input_keys={'question', 'perfect_answer', 'student_answer'}), Example({'question': 'What is the difference between a stack and a queue?', 'student_answer': 'Stacks and queues both use FIFO. Stacks are for undo operations, queues for scheduling tasks.', 'perfect_answer': 'A stack is a data structure that follows the Last In, First Out (LIFO) principle, where elements are added and removed from the same end called the top. A queue, on the other hand, follows the First In, First Out (FIFO) principle, where elements are added at the rear and removed from the front.', 'feedback': 'Incorrect. The principles of stacks and queues are reversed.', 'score': '0'}) (input_keys={'question', 'perfect_answer', 'student_answer'})]\n"
     ]
    }
   ],
   "source": [
    "dataset = []\n",
    "\n",
    "for i in range(121):\n",
    "    dataset.append(dspy.Example(question=questions[i], student_answer=student_answers[i], perfect_answer=perfect_answers[i], feedback=feedbacks[i],score = scores[i]).with_inputs(\"question\",\"student_answer\",\"perfect_answer\"))\n",
    "\n",
    "print(dataset[:3])"
   ]
  },
  {
   "cell_type": "code",
   "execution_count": 11,
   "id": "d65d647e-21f0-470e-9a26-c1fb135bda73",
   "metadata": {},
   "outputs": [],
   "source": [
    "trainset, devset = dataset[:100],dataset[100:]"
   ]
  },
  {
   "cell_type": "markdown",
   "id": "ffe63248-c198-4832-9d3f-5f59717b570e",
   "metadata": {},
   "source": [
    "### Using Dataset with DSPY"
   ]
  },
  {
   "cell_type": "code",
   "execution_count": 12,
   "id": "3a1ce6ec-4913-4b80-bb0b-0f0f667e0e8c",
   "metadata": {},
   "outputs": [],
   "source": [
    "class GenerateScore(dspy.Signature):\n",
    "    \"\"\"Generate a feedback and a score for student_answer based on perfect_answer where score is a string representing float value between 0 and 10.\"\"\"\n",
    "\n",
    "    question : str = dspy.InputField()\n",
    "    student_answer : str = dspy.InputField()\n",
    "    perfect_answer : str = dspy.InputField(desc = \"use this to generate feedback and score.\")\n",
    "    feedback : str = dspy.OutputField(desc = \"a feedback for student's answer.\")\n",
    "    score : str = dspy.OutputField(desc=\"a score between 0 and 10 as a string. Must be able to convert to float\")"
   ]
  },
  {
   "cell_type": "code",
   "execution_count": 13,
   "id": "be4f7854-bb1a-4155-ad0d-f33f2e12687e",
   "metadata": {},
   "outputs": [],
   "source": [
    "class CoT(dspy.Module):\n",
    "    def __init__(self):\n",
    "        super().__init__()\n",
    "        self.prog = dspy.ChainOfThought(GenerateScore)\n",
    "    \n",
    "    def forward(self, question, student_answer, perfect_answer):\n",
    "        return self.prog(question=question, student_answer=student_answer, perfect_answer=perfect_answer)"
   ]
  },
  {
   "cell_type": "code",
   "execution_count": 14,
   "id": "61c454cf-f67c-427f-851c-80f6253891af",
   "metadata": {},
   "outputs": [],
   "source": [
    "def cosine_sim(str1,str2):\n",
    "    from sklearn.feature_extraction.text import TfidfVectorizer\n",
    "    from sklearn.metrics.pairwise import cosine_similarity\n",
    "    return cosine_similarity(TfidfVectorizer().fit_transform([str1, str2]))[0, 1]"
   ]
  },
  {
   "cell_type": "code",
   "execution_count": 15,
   "id": "1976ead9-e94a-4132-bc32-c300725eca8f",
   "metadata": {},
   "outputs": [
    {
     "name": "stderr",
     "output_type": "stream",
     "text": [
      "<>:4: SyntaxWarning: invalid escape sequence '\\d'\n",
      "<>:4: SyntaxWarning: invalid escape sequence '\\d'\n",
      "C:\\Users\\Admin\\AppData\\Local\\Temp\\ipykernel_13748\\891290194.py:4: SyntaxWarning: invalid escape sequence '\\d'\n",
      "  pred_score = re.findall(\"\\d{1,2}.?\\d?\", pred.score)[0]\n"
     ]
    }
   ],
   "source": [
    "def feedback_score_metric(example, pred, trace = None):\n",
    "    import re\n",
    "    feedback_metric = cosine_sim(example.feedback, pred.feedback)\n",
    "    pred_score = re.findall(\"\\d{1,2}.?\\d?\", pred.score)[0]\n",
    "    score_metric = 1 - abs(float(example.score) - float(pred_score))/10\n",
    "    return (feedback_metric + score_metric)/2"
   ]
  },
  {
   "cell_type": "code",
   "execution_count": 16,
   "id": "f39b29c7-2c50-44d8-ad74-98542c383f56",
   "metadata": {},
   "outputs": [],
   "source": [
    "turbo = dspy.GROQ(model='mixtral-8x7b-32768', api_key =\"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\" )\n",
    "dspy.settings.configure(lm=turbo)"
   ]
  },
  {
   "cell_type": "code",
   "execution_count": 17,
   "id": "49c66430-6b9d-411a-bc8a-99a74b3f00d3",
   "metadata": {},
   "outputs": [
    {
     "name": "stderr",
     "output_type": "stream",
     "text": [
      "  3%|██▍                                                                               | 3/100 [00:03<01:45,  1.09s/it]ERROR:dspy.teleprompt.bootstrap:2024-08-18T19:06:51.020677Z [error    ] Failed to run or to evaluate example Example({'question': 'What is the difference between a stack and a queue?', 'student_answer': 'A stack operates with LIFO and a queue with FIFO principles. Stacks are used for recursion and queues for task management.', 'perfect_answer': 'A stack is a data structure that follows the Last In, First Out (LIFO) principle, where elements are added and removed from the same end called the top. A queue, on the other hand, follows the First In, First Out (FIFO) principle, where elements are added at the rear and removed from the front.', 'feedback': 'Partially correct. Correct principles but the answer misses details about operations.', 'score': '5'}) (input_keys={'question', 'perfect_answer', 'student_answer'}) with <function feedback_score_metric at 0x000001DF01E00540> due to list index out of range. [dspy.teleprompt.bootstrap] filename=bootstrap.py lineno=211\n",
      "  5%|████                                                                              | 5/100 [00:12<03:48,  2.40s/it]\n"
     ]
    },
    {
     "name": "stdout",
     "output_type": "stream",
     "text": [
      "Bootstrapped 4 full traces after 6 examples in round 0.\n"
     ]
    }
   ],
   "source": [
    "from dspy.teleprompt import BootstrapFewShot\n",
    "\n",
    "# Set up the optimizer: we want to \"bootstrap\" (i.e., self-generate) 10-shot examples of our CoT program.\n",
    "config = dict(max_bootstrapped_demos=4, max_labeled_demos=4)\n",
    "# Optimize! Use the `gsm8k_metric` here. In general, the metric is going to tell the optimizer how well it's doing.\n",
    "teleprompter = BootstrapFewShot(metric=feedback_score_metric, **config)\n",
    "optimized_cot = teleprompter.compile(CoT(), trainset=trainset)"
   ]
  },
  {
   "cell_type": "code",
   "execution_count": 18,
   "id": "ca2c25d7-9be5-44e4-ad93-4062f73ebaa0",
   "metadata": {},
   "outputs": [
    {
     "name": "stderr",
     "output_type": "stream",
     "text": [
      "Average Metric: 1.796787637080691 / 3  (59.9):  14%|█████▏                              | 3/21 [00:17<01:11,  3.95s/it]INFO:backoff:Backing off request(...) for 0.5s (groq.RateLimitError: Error code: 429 - {'error': {'message': 'Rate limit reached for model `mixtral-8x7b-32768` in organization `org_01j21q91w4fveargpx9ww58dpr` on tokens per minute (TPM): Limit 5000, Used 4961, Requested 1374. Please try again in 16.015999999s. Visit https://console.groq.com/docs/rate-limits for more information.', 'type': 'tokens', 'code': 'rate_limit_exceeded'}})\n"
     ]
    },
    {
     "name": "stdout",
     "output_type": "stream",
     "text": [
      "Backing off 0.5 seconds after 1 tries calling function <function GroqLM.request at 0x000001DF01EF6CA0> with kwargs {}\n"
     ]
    },
    {
     "name": "stderr",
     "output_type": "stream",
     "text": [
      "Average Metric: 4.748220466753911 / 8  (59.4):  33%|████████████                        | 7/21 [01:26<02:11,  9.38s/it]INFO:backoff:Backing off request(...) for 1.0s (groq.RateLimitError: Error code: 429 - {'error': {'message': 'Rate limit reached for model `mixtral-8x7b-32768` in organization `org_01j21q91w4fveargpx9ww58dpr` on tokens per minute (TPM): Limit 5000, Used 9166, Requested 1376. Please try again in 1m6.504s. Visit https://console.groq.com/docs/rate-limits for more information.', 'type': 'tokens', 'code': 'rate_limit_exceeded'}})\n"
     ]
    },
    {
     "name": "stdout",
     "output_type": "stream",
     "text": [
      "Backing off 1.0 seconds after 1 tries calling function <function GroqLM.request at 0x000001DF01EF6CA0> with kwargs {}\n"
     ]
    },
    {
     "name": "stderr",
     "output_type": "stream",
     "text": [
      "INFO:backoff:Backing off request(...) for 0.2s (groq.RateLimitError: Error code: 429 - {'error': {'message': 'Rate limit reached for model `mixtral-8x7b-32768` in organization `org_01j21q91w4fveargpx9ww58dpr` on tokens per minute (TPM): Limit 5000, Used 9159, Requested 1421. Please try again in 1m6.969s. Visit https://console.groq.com/docs/rate-limits for more information.', 'type': 'tokens', 'code': 'rate_limit_exceeded'}})\n"
     ]
    },
    {
     "name": "stdout",
     "output_type": "stream",
     "text": [
      "Backing off 0.2 seconds after 1 tries calling function <function GroqLM.request at 0x000001DF01EF6CA0> with kwargs {}\n"
     ]
    },
    {
     "name": "stderr",
     "output_type": "stream",
     "text": [
      "INFO:backoff:Backing off request(...) for 0.8s (groq.RateLimitError: Error code: 429 - {'error': {'message': 'Rate limit reached for model `mixtral-8x7b-32768` in organization `org_01j21q91w4fveargpx9ww58dpr` on tokens per minute (TPM): Limit 5000, Used 9154, Requested 1387. Please try again in 1m6.495s. Visit https://console.groq.com/docs/rate-limits for more information.', 'type': 'tokens', 'code': 'rate_limit_exceeded'}})\n"
     ]
    },
    {
     "name": "stdout",
     "output_type": "stream",
     "text": [
      "Backing off 0.8 seconds after 1 tries calling function <function GroqLM.request at 0x000001DF01EF6CA0> with kwargs {}\n"
     ]
    },
    {
     "name": "stderr",
     "output_type": "stream",
     "text": [
      "INFO:backoff:Backing off request(...) for 0.5s (groq.RateLimitError: Error code: 429 - {'error': {'message': 'Rate limit reached for model `mixtral-8x7b-32768` in organization `org_01j21q91w4fveargpx9ww58dpr` on tokens per minute (TPM): Limit 5000, Used 9122, Requested 1421. Please try again in 1m6.526s. Visit https://console.groq.com/docs/rate-limits for more information.', 'type': 'tokens', 'code': 'rate_limit_exceeded'}})\n"
     ]
    },
    {
     "name": "stdout",
     "output_type": "stream",
     "text": [
      "Backing off 0.5 seconds after 2 tries calling function <function GroqLM.request at 0x000001DF01EF6CA0> with kwargs {}\n"
     ]
    },
    {
     "name": "stderr",
     "output_type": "stream",
     "text": [
      "INFO:backoff:Backing off request(...) for 0.4s (groq.RateLimitError: Error code: 429 - {'error': {'message': 'Rate limit reached for model `mixtral-8x7b-32768` in organization `org_01j21q91w4fveargpx9ww58dpr` on tokens per minute (TPM): Limit 5000, Used 9064, Requested 1387. Please try again in 1m5.42s. Visit https://console.groq.com/docs/rate-limits for more information.', 'type': 'tokens', 'code': 'rate_limit_exceeded'}})\n"
     ]
    },
    {
     "name": "stdout",
     "output_type": "stream",
     "text": [
      "Backing off 0.4 seconds after 2 tries calling function <function GroqLM.request at 0x000001DF01EF6CA0> with kwargs {}\n"
     ]
    },
    {
     "name": "stderr",
     "output_type": "stream",
     "text": [
      "INFO:backoff:Backing off request(...) for 0.9s (groq.RateLimitError: Error code: 429 - {'error': {'message': 'Rate limit reached for model `mixtral-8x7b-32768` in organization `org_01j21q91w4fveargpx9ww58dpr` on tokens per minute (TPM): Limit 5000, Used 9057, Requested 1376. Please try again in 1m5.202s. Visit https://console.groq.com/docs/rate-limits for more information.', 'type': 'tokens', 'code': 'rate_limit_exceeded'}})\n"
     ]
    },
    {
     "name": "stdout",
     "output_type": "stream",
     "text": [
      "Backing off 0.9 seconds after 2 tries calling function <function GroqLM.request at 0x000001DF01EF6CA0> with kwargs {}\n"
     ]
    },
    {
     "name": "stderr",
     "output_type": "stream",
     "text": [
      "INFO:backoff:Backing off request(...) for 3.2s (groq.RateLimitError: Error code: 429 - {'error': {'message': 'Rate limit reached for model `mixtral-8x7b-32768` in organization `org_01j21q91w4fveargpx9ww58dpr` on tokens per minute (TPM): Limit 5000, Used 9057, Requested 1421. Please try again in 1m5.738s. Visit https://console.groq.com/docs/rate-limits for more information.', 'type': 'tokens', 'code': 'rate_limit_exceeded'}})\n"
     ]
    },
    {
     "name": "stdout",
     "output_type": "stream",
     "text": [
      "Backing off 3.2 seconds after 3 tries calling function <function GroqLM.request at 0x000001DF01EF6CA0> with kwargs {}\n"
     ]
    },
    {
     "name": "stderr",
     "output_type": "stream",
     "text": [
      "INFO:backoff:Backing off request(...) for 0.0s (groq.RateLimitError: Error code: 429 - {'error': {'message': 'Rate limit reached for model `mixtral-8x7b-32768` in organization `org_01j21q91w4fveargpx9ww58dpr` on tokens per minute (TPM): Limit 5000, Used 9001, Requested 1387. Please try again in 1m4.663s. Visit https://console.groq.com/docs/rate-limits for more information.', 'type': 'tokens', 'code': 'rate_limit_exceeded'}})\n"
     ]
    },
    {
     "name": "stdout",
     "output_type": "stream",
     "text": [
      "Backing off 0.0 seconds after 3 tries calling function <function GroqLM.request at 0x000001DF01EF6CA0> with kwargs {}\n"
     ]
    },
    {
     "name": "stderr",
     "output_type": "stream",
     "text": [
      "INFO:backoff:Backing off request(...) for 3.7s (groq.RateLimitError: Error code: 429 - {'error': {'message': 'Rate limit reached for model `mixtral-8x7b-32768` in organization `org_01j21q91w4fveargpx9ww58dpr` on tokens per minute (TPM): Limit 5000, Used 8972, Requested 1387. Please try again in 1m4.316s. Visit https://console.groq.com/docs/rate-limits for more information.', 'type': 'tokens', 'code': 'rate_limit_exceeded'}})\n"
     ]
    },
    {
     "name": "stdout",
     "output_type": "stream",
     "text": [
      "Backing off 3.7 seconds after 4 tries calling function <function GroqLM.request at 0x000001DF01EF6CA0> with kwargs {}\n"
     ]
    },
    {
     "name": "stderr",
     "output_type": "stream",
     "text": [
      "INFO:backoff:Backing off request(...) for 3.5s (groq.RateLimitError: Error code: 429 - {'error': {'message': 'Rate limit reached for model `mixtral-8x7b-32768` in organization `org_01j21q91w4fveargpx9ww58dpr` on tokens per minute (TPM): Limit 5000, Used 8955, Requested 1376. Please try again in 1m3.98s. Visit https://console.groq.com/docs/rate-limits for more information.', 'type': 'tokens', 'code': 'rate_limit_exceeded'}})\n"
     ]
    },
    {
     "name": "stdout",
     "output_type": "stream",
     "text": [
      "Backing off 3.5 seconds after 3 tries calling function <function GroqLM.request at 0x000001DF01EF6CA0> with kwargs {}\n"
     ]
    },
    {
     "name": "stderr",
     "output_type": "stream",
     "text": [
      "INFO:backoff:Backing off request(...) for 4.4s (groq.RateLimitError: Error code: 429 - {'error': {'message': 'Rate limit reached for model `mixtral-8x7b-32768` in organization `org_01j21q91w4fveargpx9ww58dpr` on tokens per minute (TPM): Limit 5000, Used 8761, Requested 1421. Please try again in 1m2.19s. Visit https://console.groq.com/docs/rate-limits for more information.', 'type': 'tokens', 'code': 'rate_limit_exceeded'}})\n"
     ]
    },
    {
     "name": "stdout",
     "output_type": "stream",
     "text": [
      "Backing off 4.4 seconds after 4 tries calling function <function GroqLM.request at 0x000001DF01EF6CA0> with kwargs {}\n"
     ]
    },
    {
     "name": "stderr",
     "output_type": "stream",
     "text": [
      "INFO:backoff:Backing off request(...) for 0.7s (groq.RateLimitError: Error code: 429 - {'error': {'message': 'Rate limit reached for model `mixtral-8x7b-32768` in organization `org_01j21q91w4fveargpx9ww58dpr` on tokens per minute (TPM): Limit 5000, Used 8641, Requested 1376. Please try again in 1m0.205s. Visit https://console.groq.com/docs/rate-limits for more information.', 'type': 'tokens', 'code': 'rate_limit_exceeded'}})\n"
     ]
    },
    {
     "name": "stdout",
     "output_type": "stream",
     "text": [
      "Backing off 0.7 seconds after 4 tries calling function <function GroqLM.request at 0x000001DF01EF6CA0> with kwargs {}\n"
     ]
    },
    {
     "name": "stderr",
     "output_type": "stream",
     "text": [
      "INFO:backoff:Backing off request(...) for 7.9s (groq.RateLimitError: Error code: 429 - {'error': {'message': 'Rate limit reached for model `mixtral-8x7b-32768` in organization `org_01j21q91w4fveargpx9ww58dpr` on tokens per minute (TPM): Limit 5000, Used 8636, Requested 1387. Please try again in 1m0.277s. Visit https://console.groq.com/docs/rate-limits for more information.', 'type': 'tokens', 'code': 'rate_limit_exceeded'}})\n"
     ]
    },
    {
     "name": "stdout",
     "output_type": "stream",
     "text": [
      "Backing off 7.9 seconds after 5 tries calling function <function GroqLM.request at 0x000001DF01EF6CA0> with kwargs {}\n"
     ]
    },
    {
     "name": "stderr",
     "output_type": "stream",
     "text": [
      "Average Metric: 6.854992106466423 / 12  (57.1):  52%|█████████████████▊                | 11/21 [02:35<02:06, 12.67s/it]INFO:backoff:Backing off request(...) for 0.4s (groq.RateLimitError: Error code: 429 - {'error': {'message': 'Rate limit reached for model `mixtral-8x7b-32768` in organization `org_01j21q91w4fveargpx9ww58dpr` on tokens per minute (TPM): Limit 5000, Used 9257, Requested 1387. Please try again in 1m7.736s. Visit https://console.groq.com/docs/rate-limits for more information.', 'type': 'tokens', 'code': 'rate_limit_exceeded'}})\n"
     ]
    },
    {
     "name": "stdout",
     "output_type": "stream",
     "text": [
      "Backing off 0.4 seconds after 1 tries calling function <function GroqLM.request at 0x000001DF01EF6CA0> with kwargs {}\n"
     ]
    },
    {
     "name": "stderr",
     "output_type": "stream",
     "text": [
      "INFO:backoff:Backing off request(...) for 0.1s (groq.RateLimitError: Error code: 429 - {'error': {'message': 'Rate limit reached for model `mixtral-8x7b-32768` in organization `org_01j21q91w4fveargpx9ww58dpr` on tokens per minute (TPM): Limit 5000, Used 9256, Requested 1379. Please try again in 1m7.623999999s. Visit https://console.groq.com/docs/rate-limits for more information.', 'type': 'tokens', 'code': 'rate_limit_exceeded'}})\n"
     ]
    },
    {
     "name": "stdout",
     "output_type": "stream",
     "text": [
      "Backing off 0.1 seconds after 1 tries calling function <function GroqLM.request at 0x000001DF01EF6CA0> with kwargs {}\n"
     ]
    },
    {
     "name": "stderr",
     "output_type": "stream",
     "text": [
      "INFO:backoff:Backing off request(...) for 0.8s (groq.RateLimitError: Error code: 429 - {'error': {'message': 'Rate limit reached for model `mixtral-8x7b-32768` in organization `org_01j21q91w4fveargpx9ww58dpr` on tokens per minute (TPM): Limit 5000, Used 9235, Requested 1374. Please try again in 1m7.312s. Visit https://console.groq.com/docs/rate-limits for more information.', 'type': 'tokens', 'code': 'rate_limit_exceeded'}})\n"
     ]
    },
    {
     "name": "stdout",
     "output_type": "stream",
     "text": [
      "Backing off 0.8 seconds after 1 tries calling function <function GroqLM.request at 0x000001DF01EF6CA0> with kwargs {}\n"
     ]
    },
    {
     "name": "stderr",
     "output_type": "stream",
     "text": [
      "INFO:backoff:Backing off request(...) for 0.5s (groq.RateLimitError: Error code: 429 - {'error': {'message': 'Rate limit reached for model `mixtral-8x7b-32768` in organization `org_01j21q91w4fveargpx9ww58dpr` on tokens per minute (TPM): Limit 5000, Used 9234, Requested 1378. Please try again in 1m7.344s. Visit https://console.groq.com/docs/rate-limits for more information.', 'type': 'tokens', 'code': 'rate_limit_exceeded'}})\n"
     ]
    },
    {
     "name": "stdout",
     "output_type": "stream",
     "text": [
      "Backing off 0.5 seconds after 1 tries calling function <function GroqLM.request at 0x000001DF01EF6CA0> with kwargs {}\n"
     ]
    },
    {
     "name": "stderr",
     "output_type": "stream",
     "text": [
      "INFO:backoff:Backing off request(...) for 0.2s (groq.RateLimitError: Error code: 429 - {'error': {'message': 'Rate limit reached for model `mixtral-8x7b-32768` in organization `org_01j21q91w4fveargpx9ww58dpr` on tokens per minute (TPM): Limit 5000, Used 9219, Requested 1379. Please try again in 1m7.185s. Visit https://console.groq.com/docs/rate-limits for more information.', 'type': 'tokens', 'code': 'rate_limit_exceeded'}})\n"
     ]
    },
    {
     "name": "stdout",
     "output_type": "stream",
     "text": [
      "Backing off 0.2 seconds after 2 tries calling function <function GroqLM.request at 0x000001DF01EF6CA0> with kwargs {}\n"
     ]
    },
    {
     "name": "stderr",
     "output_type": "stream",
     "text": [
      "INFO:backoff:Backing off request(...) for 1.0s (groq.RateLimitError: Error code: 429 - {'error': {'message': 'Rate limit reached for model `mixtral-8x7b-32768` in organization `org_01j21q91w4fveargpx9ww58dpr` on tokens per minute (TPM): Limit 5000, Used 9199, Requested 1387. Please try again in 1m7.042s. Visit https://console.groq.com/docs/rate-limits for more information.', 'type': 'tokens', 'code': 'rate_limit_exceeded'}})\n"
     ]
    },
    {
     "name": "stdout",
     "output_type": "stream",
     "text": [
      "Backing off 1.0 seconds after 2 tries calling function <function GroqLM.request at 0x000001DF01EF6CA0> with kwargs {}\n"
     ]
    },
    {
     "name": "stderr",
     "output_type": "stream",
     "text": [
      "INFO:backoff:Backing off request(...) for 1.3s (groq.RateLimitError: Error code: 429 - {'error': {'message': 'Rate limit reached for model `mixtral-8x7b-32768` in organization `org_01j21q91w4fveargpx9ww58dpr` on tokens per minute (TPM): Limit 5000, Used 9173, Requested 1379. Please try again in 1m6.626s. Visit https://console.groq.com/docs/rate-limits for more information.', 'type': 'tokens', 'code': 'rate_limit_exceeded'}})\n"
     ]
    },
    {
     "name": "stdout",
     "output_type": "stream",
     "text": [
      "Backing off 1.3 seconds after 3 tries calling function <function GroqLM.request at 0x000001DF01EF6CA0> with kwargs {}\n"
     ]
    },
    {
     "name": "stderr",
     "output_type": "stream",
     "text": [
      "INFO:backoff:Backing off request(...) for 1.1s (groq.RateLimitError: Error code: 429 - {'error': {'message': 'Rate limit reached for model `mixtral-8x7b-32768` in organization `org_01j21q91w4fveargpx9ww58dpr` on tokens per minute (TPM): Limit 5000, Used 9164, Requested 1378. Please try again in 1m6.513999999s. Visit https://console.groq.com/docs/rate-limits for more information.', 'type': 'tokens', 'code': 'rate_limit_exceeded'}})\n"
     ]
    },
    {
     "name": "stdout",
     "output_type": "stream",
     "text": [
      "Backing off 1.1 seconds after 2 tries calling function <function GroqLM.request at 0x000001DF01EF6CA0> with kwargs {}\n"
     ]
    },
    {
     "name": "stderr",
     "output_type": "stream",
     "text": [
      "INFO:backoff:Backing off request(...) for 3.8s (groq.RateLimitError: Error code: 429 - {'error': {'message': 'Rate limit reached for model `mixtral-8x7b-32768` in organization `org_01j21q91w4fveargpx9ww58dpr` on tokens per minute (TPM): Limit 5000, Used 9090, Requested 1387. Please try again in 1m5.734s. Visit https://console.groq.com/docs/rate-limits for more information.', 'type': 'tokens', 'code': 'rate_limit_exceeded'}})\n",
      "INFO:backoff:Backing off request(...) for 1.4s (groq.RateLimitError: Error code: 429 - {'error': {'message': 'Rate limit reached for model `mixtral-8x7b-32768` in organization `org_01j21q91w4fveargpx9ww58dpr` on tokens per minute (TPM): Limit 5000, Used 9090, Requested 1374. Please try again in 1m5.578s. Visit https://console.groq.com/docs/rate-limits for more information.', 'type': 'tokens', 'code': 'rate_limit_exceeded'}})\n"
     ]
    },
    {
     "name": "stdout",
     "output_type": "stream",
     "text": [
      "Backing off 3.8 seconds after 3 tries calling function <function GroqLM.request at 0x000001DF01EF6CA0> with kwargs {}\n",
      "Backing off 1.4 seconds after 2 tries calling function <function GroqLM.request at 0x000001DF01EF6CA0> with kwargs {}\n"
     ]
    },
    {
     "name": "stderr",
     "output_type": "stream",
     "text": [
      "INFO:backoff:Backing off request(...) for 2.8s (groq.RateLimitError: Error code: 429 - {'error': {'message': 'Rate limit reached for model `mixtral-8x7b-32768` in organization `org_01j21q91w4fveargpx9ww58dpr` on tokens per minute (TPM): Limit 5000, Used 9049, Requested 1378. Please try again in 1m5.134s. Visit https://console.groq.com/docs/rate-limits for more information.', 'type': 'tokens', 'code': 'rate_limit_exceeded'}})\n"
     ]
    },
    {
     "name": "stdout",
     "output_type": "stream",
     "text": [
      "Backing off 2.8 seconds after 3 tries calling function <function GroqLM.request at 0x000001DF01EF6CA0> with kwargs {}\n"
     ]
    },
    {
     "name": "stderr",
     "output_type": "stream",
     "text": [
      "INFO:backoff:Backing off request(...) for 7.5s (groq.RateLimitError: Error code: 429 - {'error': {'message': 'Rate limit reached for model `mixtral-8x7b-32768` in organization `org_01j21q91w4fveargpx9ww58dpr` on tokens per minute (TPM): Limit 5000, Used 9038, Requested 1379. Please try again in 1m5.009s. Visit https://console.groq.com/docs/rate-limits for more information.', 'type': 'tokens', 'code': 'rate_limit_exceeded'}})\n"
     ]
    },
    {
     "name": "stdout",
     "output_type": "stream",
     "text": [
      "Backing off 7.5 seconds after 4 tries calling function <function GroqLM.request at 0x000001DF01EF6CA0> with kwargs {}\n"
     ]
    },
    {
     "name": "stderr",
     "output_type": "stream",
     "text": [
      "INFO:backoff:Backing off request(...) for 0.9s (groq.RateLimitError: Error code: 429 - {'error': {'message': 'Rate limit reached for model `mixtral-8x7b-32768` in organization `org_01j21q91w4fveargpx9ww58dpr` on tokens per minute (TPM): Limit 5000, Used 8944, Requested 1374. Please try again in 1m3.818s. Visit https://console.groq.com/docs/rate-limits for more information.', 'type': 'tokens', 'code': 'rate_limit_exceeded'}})\n"
     ]
    },
    {
     "name": "stdout",
     "output_type": "stream",
     "text": [
      "Backing off 0.9 seconds after 3 tries calling function <function GroqLM.request at 0x000001DF01EF6CA0> with kwargs {}\n"
     ]
    },
    {
     "name": "stderr",
     "output_type": "stream",
     "text": [
      "INFO:backoff:Backing off request(...) for 3.9s (groq.RateLimitError: Error code: 429 - {'error': {'message': 'Rate limit reached for model `mixtral-8x7b-32768` in organization `org_01j21q91w4fveargpx9ww58dpr` on tokens per minute (TPM): Limit 5000, Used 8840, Requested 1374. Please try again in 1m2.578999999s. Visit https://console.groq.com/docs/rate-limits for more information.', 'type': 'tokens', 'code': 'rate_limit_exceeded'}})\n"
     ]
    },
    {
     "name": "stdout",
     "output_type": "stream",
     "text": [
      "Backing off 3.9 seconds after 4 tries calling function <function GroqLM.request at 0x000001DF01EF6CA0> with kwargs {}\n"
     ]
    },
    {
     "name": "stderr",
     "output_type": "stream",
     "text": [
      "INFO:backoff:Backing off request(...) for 0.3s (groq.RateLimitError: Error code: 429 - {'error': {'message': 'Rate limit reached for model `mixtral-8x7b-32768` in organization `org_01j21q91w4fveargpx9ww58dpr` on tokens per minute (TPM): Limit 5000, Used 8792, Requested 1378. Please try again in 1m2.044999999s. Visit https://console.groq.com/docs/rate-limits for more information.', 'type': 'tokens', 'code': 'rate_limit_exceeded'}})\n"
     ]
    },
    {
     "name": "stdout",
     "output_type": "stream",
     "text": [
      "Backing off 0.3 seconds after 4 tries calling function <function GroqLM.request at 0x000001DF01EF6CA0> with kwargs {}\n"
     ]
    },
    {
     "name": "stderr",
     "output_type": "stream",
     "text": [
      "INFO:backoff:Backing off request(...) for 4.3s (groq.RateLimitError: Error code: 429 - {'error': {'message': 'Rate limit reached for model `mixtral-8x7b-32768` in organization `org_01j21q91w4fveargpx9ww58dpr` on tokens per minute (TPM): Limit 5000, Used 8744, Requested 1387. Please try again in 1m1.574s. Visit https://console.groq.com/docs/rate-limits for more information.', 'type': 'tokens', 'code': 'rate_limit_exceeded'}})\n"
     ]
    },
    {
     "name": "stdout",
     "output_type": "stream",
     "text": [
      "Backing off 4.3 seconds after 4 tries calling function <function GroqLM.request at 0x000001DF01EF6CA0> with kwargs {}\n"
     ]
    },
    {
     "name": "stderr",
     "output_type": "stream",
     "text": [
      "INFO:backoff:Backing off request(...) for 11.9s (groq.RateLimitError: Error code: 429 - {'error': {'message': 'Rate limit reached for model `mixtral-8x7b-32768` in organization `org_01j21q91w4fveargpx9ww58dpr` on tokens per minute (TPM): Limit 5000, Used 8739, Requested 1378. Please try again in 1m1.407s. Visit https://console.groq.com/docs/rate-limits for more information.', 'type': 'tokens', 'code': 'rate_limit_exceeded'}})\n"
     ]
    },
    {
     "name": "stdout",
     "output_type": "stream",
     "text": [
      "Backing off 11.9 seconds after 5 tries calling function <function GroqLM.request at 0x000001DF01EF6CA0> with kwargs {}\n"
     ]
    },
    {
     "name": "stderr",
     "output_type": "stream",
     "text": [
      "Average Metric: 9.191146426738987 / 17  (54.1):  81%|███████████████████████████▌      | 17/21 [04:02<00:37,  9.42s/it]INFO:backoff:Backing off request(...) for 0.8s (groq.RateLimitError: Error code: 429 - {'error': {'message': 'Rate limit reached for model `mixtral-8x7b-32768` in organization `org_01j21q91w4fveargpx9ww58dpr` on tokens per minute (TPM): Limit 5000, Used 9396, Requested 1379. Please try again in 1m9.311s. Visit https://console.groq.com/docs/rate-limits for more information.', 'type': 'tokens', 'code': 'rate_limit_exceeded'}})\n"
     ]
    },
    {
     "name": "stdout",
     "output_type": "stream",
     "text": [
      "Backing off 0.8 seconds after 1 tries calling function <function GroqLM.request at 0x000001DF01EF6CA0> with kwargs {}\n"
     ]
    },
    {
     "name": "stderr",
     "output_type": "stream",
     "text": [
      "INFO:backoff:Backing off request(...) for 1.0s (groq.RateLimitError: Error code: 429 - {'error': {'message': 'Rate limit reached for model `mixtral-8x7b-32768` in organization `org_01j21q91w4fveargpx9ww58dpr` on tokens per minute (TPM): Limit 5000, Used 9391, Requested 1371. Please try again in 1m9.145s. Visit https://console.groq.com/docs/rate-limits for more information.', 'type': 'tokens', 'code': 'rate_limit_exceeded'}})\n"
     ]
    },
    {
     "name": "stdout",
     "output_type": "stream",
     "text": [
      "Backing off 1.0 seconds after 1 tries calling function <function GroqLM.request at 0x000001DF01EF6CA0> with kwargs {}\n"
     ]
    },
    {
     "name": "stderr",
     "output_type": "stream",
     "text": [
      "INFO:backoff:Backing off request(...) for 0.4s (groq.RateLimitError: Error code: 429 - {'error': {'message': 'Rate limit reached for model `mixtral-8x7b-32768` in organization `org_01j21q91w4fveargpx9ww58dpr` on tokens per minute (TPM): Limit 5000, Used 9376, Requested 1419. Please try again in 1m9.542s. Visit https://console.groq.com/docs/rate-limits for more information.', 'type': 'tokens', 'code': 'rate_limit_exceeded'}})\n"
     ]
    },
    {
     "name": "stdout",
     "output_type": "stream",
     "text": [
      "Backing off 0.4 seconds after 1 tries calling function <function GroqLM.request at 0x000001DF01EF6CA0> with kwargs {}\n"
     ]
    },
    {
     "name": "stderr",
     "output_type": "stream",
     "text": [
      "INFO:backoff:Backing off request(...) for 0.3s (groq.RateLimitError: Error code: 429 - {'error': {'message': 'Rate limit reached for model `mixtral-8x7b-32768` in organization `org_01j21q91w4fveargpx9ww58dpr` on tokens per minute (TPM): Limit 5000, Used 9318, Requested 1419. Please try again in 1m8.846s. Visit https://console.groq.com/docs/rate-limits for more information.', 'type': 'tokens', 'code': 'rate_limit_exceeded'}})\n"
     ]
    },
    {
     "name": "stdout",
     "output_type": "stream",
     "text": [
      "Backing off 0.3 seconds after 2 tries calling function <function GroqLM.request at 0x000001DF01EF6CA0> with kwargs {}\n"
     ]
    },
    {
     "name": "stderr",
     "output_type": "stream",
     "text": [
      "INFO:backoff:Backing off request(...) for 0.8s (groq.RateLimitError: Error code: 429 - {'error': {'message': 'Rate limit reached for model `mixtral-8x7b-32768` in organization `org_01j21q91w4fveargpx9ww58dpr` on tokens per minute (TPM): Limit 5000, Used 9300, Requested 1379. Please try again in 1m8.158s. Visit https://console.groq.com/docs/rate-limits for more information.', 'type': 'tokens', 'code': 'rate_limit_exceeded'}})\n"
     ]
    },
    {
     "name": "stdout",
     "output_type": "stream",
     "text": [
      "Backing off 0.8 seconds after 2 tries calling function <function GroqLM.request at 0x000001DF01EF6CA0> with kwargs {}\n"
     ]
    },
    {
     "name": "stderr",
     "output_type": "stream",
     "text": [
      "INFO:backoff:Backing off request(...) for 1.2s (groq.RateLimitError: Error code: 429 - {'error': {'message': 'Rate limit reached for model `mixtral-8x7b-32768` in organization `org_01j21q91w4fveargpx9ww58dpr` on tokens per minute (TPM): Limit 5000, Used 9282, Requested 1371. Please try again in 1m7.847s. Visit https://console.groq.com/docs/rate-limits for more information.', 'type': 'tokens', 'code': 'rate_limit_exceeded'}})\n"
     ]
    },
    {
     "name": "stdout",
     "output_type": "stream",
     "text": [
      "Backing off 1.2 seconds after 2 tries calling function <function GroqLM.request at 0x000001DF01EF6CA0> with kwargs {}\n"
     ]
    },
    {
     "name": "stderr",
     "output_type": "stream",
     "text": [
      "INFO:backoff:Backing off request(...) for 2.3s (groq.RateLimitError: Error code: 429 - {'error': {'message': 'Rate limit reached for model `mixtral-8x7b-32768` in organization `org_01j21q91w4fveargpx9ww58dpr` on tokens per minute (TPM): Limit 5000, Used 9268, Requested 1419. Please try again in 1m8.249s. Visit https://console.groq.com/docs/rate-limits for more information.', 'type': 'tokens', 'code': 'rate_limit_exceeded'}})\n"
     ]
    },
    {
     "name": "stdout",
     "output_type": "stream",
     "text": [
      "Backing off 2.3 seconds after 3 tries calling function <function GroqLM.request at 0x000001DF01EF6CA0> with kwargs {}\n"
     ]
    },
    {
     "name": "stderr",
     "output_type": "stream",
     "text": [
      "INFO:backoff:Backing off request(...) for 2.5s (groq.RateLimitError: Error code: 429 - {'error': {'message': 'Rate limit reached for model `mixtral-8x7b-32768` in organization `org_01j21q91w4fveargpx9ww58dpr` on tokens per minute (TPM): Limit 5000, Used 9203, Requested 1379. Please try again in 1m6.99s. Visit https://console.groq.com/docs/rate-limits for more information.', 'type': 'tokens', 'code': 'rate_limit_exceeded'}})\n"
     ]
    },
    {
     "name": "stdout",
     "output_type": "stream",
     "text": [
      "Backing off 2.5 seconds after 3 tries calling function <function GroqLM.request at 0x000001DF01EF6CA0> with kwargs {}\n"
     ]
    },
    {
     "name": "stderr",
     "output_type": "stream",
     "text": [
      "INFO:backoff:Backing off request(...) for 1.6s (groq.RateLimitError: Error code: 429 - {'error': {'message': 'Rate limit reached for model `mixtral-8x7b-32768` in organization `org_01j21q91w4fveargpx9ww58dpr` on tokens per minute (TPM): Limit 5000, Used 9153, Requested 1371. Please try again in 1m6.299s. Visit https://console.groq.com/docs/rate-limits for more information.', 'type': 'tokens', 'code': 'rate_limit_exceeded'}})\n"
     ]
    },
    {
     "name": "stdout",
     "output_type": "stream",
     "text": [
      "Backing off 1.6 seconds after 3 tries calling function <function GroqLM.request at 0x000001DF01EF6CA0> with kwargs {}\n"
     ]
    },
    {
     "name": "stderr",
     "output_type": "stream",
     "text": [
      "INFO:backoff:Backing off request(...) for 1.0s (groq.RateLimitError: Error code: 429 - {'error': {'message': 'Rate limit reached for model `mixtral-8x7b-32768` in organization `org_01j21q91w4fveargpx9ww58dpr` on tokens per minute (TPM): Limit 5000, Used 9047, Requested 1419. Please try again in 1m5.599s. Visit https://console.groq.com/docs/rate-limits for more information.', 'type': 'tokens', 'code': 'rate_limit_exceeded'}})\n"
     ]
    },
    {
     "name": "stdout",
     "output_type": "stream",
     "text": [
      "Backing off 1.0 seconds after 4 tries calling function <function GroqLM.request at 0x000001DF01EF6CA0> with kwargs {}\n"
     ]
    },
    {
     "name": "stderr",
     "output_type": "stream",
     "text": [
      "INFO:backoff:Backing off request(...) for 5.6s (groq.RateLimitError: Error code: 429 - {'error': {'message': 'Rate limit reached for model `mixtral-8x7b-32768` in organization `org_01j21q91w4fveargpx9ww58dpr` on tokens per minute (TPM): Limit 5000, Used 8995, Requested 1371. Please try again in 1m4.401s. Visit https://console.groq.com/docs/rate-limits for more information.', 'type': 'tokens', 'code': 'rate_limit_exceeded'}})\n"
     ]
    },
    {
     "name": "stdout",
     "output_type": "stream",
     "text": [
      "Backing off 5.6 seconds after 4 tries calling function <function GroqLM.request at 0x000001DF01EF6CA0> with kwargs {}\n"
     ]
    },
    {
     "name": "stderr",
     "output_type": "stream",
     "text": [
      "INFO:backoff:Backing off request(...) for 3.5s (groq.RateLimitError: Error code: 429 - {'error': {'message': 'Rate limit reached for model `mixtral-8x7b-32768` in organization `org_01j21q91w4fveargpx9ww58dpr` on tokens per minute (TPM): Limit 5000, Used 8966, Requested 1379. Please try again in 1m4.151s. Visit https://console.groq.com/docs/rate-limits for more information.', 'type': 'tokens', 'code': 'rate_limit_exceeded'}})\n"
     ]
    },
    {
     "name": "stdout",
     "output_type": "stream",
     "text": [
      "Backing off 3.5 seconds after 4 tries calling function <function GroqLM.request at 0x000001DF01EF6CA0> with kwargs {}\n"
     ]
    },
    {
     "name": "stderr",
     "output_type": "stream",
     "text": [
      "INFO:backoff:Backing off request(...) for 2.2s (groq.RateLimitError: Error code: 429 - {'error': {'message': 'Rate limit reached for model `mixtral-8x7b-32768` in organization `org_01j21q91w4fveargpx9ww58dpr` on tokens per minute (TPM): Limit 5000, Used 8939, Requested 1419. Please try again in 1m4.307s. Visit https://console.groq.com/docs/rate-limits for more information.', 'type': 'tokens', 'code': 'rate_limit_exceeded'}})\n"
     ]
    },
    {
     "name": "stdout",
     "output_type": "stream",
     "text": [
      "Backing off 2.2 seconds after 5 tries calling function <function GroqLM.request at 0x000001DF01EF6CA0> with kwargs {}\n"
     ]
    },
    {
     "name": "stderr",
     "output_type": "stream",
     "text": [
      "INFO:backoff:Backing off request(...) for 5.2s (groq.RateLimitError: Error code: 429 - {'error': {'message': 'Rate limit reached for model `mixtral-8x7b-32768` in organization `org_01j21q91w4fveargpx9ww58dpr` on tokens per minute (TPM): Limit 5000, Used 8722, Requested 1419. Please try again in 1m1.699999999s. Visit https://console.groq.com/docs/rate-limits for more information.', 'type': 'tokens', 'code': 'rate_limit_exceeded'}})\n"
     ]
    },
    {
     "name": "stdout",
     "output_type": "stream",
     "text": [
      "Backing off 5.2 seconds after 6 tries calling function <function GroqLM.request at 0x000001DF01EF6CA0> with kwargs {}\n"
     ]
    },
    {
     "name": "stderr",
     "output_type": "stream",
     "text": [
      "INFO:backoff:Backing off request(...) for 4.4s (groq.RateLimitError: Error code: 429 - {'error': {'message': 'Rate limit reached for model `mixtral-8x7b-32768` in organization `org_01j21q91w4fveargpx9ww58dpr` on tokens per minute (TPM): Limit 5000, Used 8648, Requested 1379. Please try again in 1m0.33s. Visit https://console.groq.com/docs/rate-limits for more information.', 'type': 'tokens', 'code': 'rate_limit_exceeded'}})\n"
     ]
    },
    {
     "name": "stdout",
     "output_type": "stream",
     "text": [
      "Backing off 4.4 seconds after 5 tries calling function <function GroqLM.request at 0x000001DF01EF6CA0> with kwargs {}\n"
     ]
    },
    {
     "name": "stderr",
     "output_type": "stream",
     "text": [
      "Average Metric: 11.458784028966926 / 21  (54.6): 100%|█████████████████████████████████| 21/21 [06:05<00:00, 17.42s/it]\n"
     ]
    },
    {
     "data": {
      "text/plain": [
       "54.57"
      ]
     },
     "execution_count": 18,
     "metadata": {},
     "output_type": "execute_result"
    }
   ],
   "source": [
    "from dspy.evaluate import Evaluate\n",
    "\n",
    "# Set up the evaluator, which can be used multiple times.\n",
    "evaluate = Evaluate(devset=devset, metric=feedback_score_metric, num_threads=4, display_progress=True, display_table=0)\n",
    "\n",
    "# Evaluate our `optimized_cot` program.\n",
    "evaluate(optimized_cot)"
   ]
  },
  {
   "cell_type": "code",
   "execution_count": 19,
   "id": "eefc027d-4ff2-4a24-9389-ab93559d5efe",
   "metadata": {},
   "outputs": [
    {
     "name": "stdout",
     "output_type": "stream",
     "text": [
      "\n",
      "\n",
      "\n",
      "Generate a feedback and a score for student_answer based on perfect_answer where score is a string representing float value between 0 and 10.\n",
      "\n",
      "---\n",
      "\n",
      "Follow the following format.\n",
      "\n",
      "Question: ${question}\n",
      "\n",
      "Student Answer: ${student_answer}\n",
      "\n",
      "Perfect Answer: use this to generate feedback and score.\n",
      "\n",
      "Reasoning: Let's think step by step in order to ${produce the score}. We ...\n",
      "\n",
      "Feedback: a feedback for student's answer.\n",
      "\n",
      "Score: a score between 0 and 10 as a string. Must be able to convert to float\n",
      "\n",
      "---\n",
      "\n",
      "Question: What is the difference between a stack and a queue?\n",
      "\n",
      "Student Answer: A stack uses LIFO and a queue uses FIFO. Stacks are used for function calls and undo operations, while queues are used for task scheduling and buffers.\n",
      "\n",
      "Perfect Answer: A stack is a data structure that follows the Last In, First Out (LIFO) principle, where elements are added and removed from the same end called the top. A queue, on the other hand, follows the First In, First Out (FIFO) principle, where elements are added at the rear and removed from the front.\n",
      "\n",
      "Reasoning: Let's think step by step in order to produce the score. We need to consider both the understanding of the principles and the examples given by the student.\n",
      "\n",
      "Feedback: Partially correct. The student understands the principles of LIFO and FIFO for stacks and queues, but the examples given are not exhaustive and could be more precise.\n",
      "\n",
      "Score: 6 --- Question: What is the difference between procedural and object-oriented programming? Student Answer: Procedural programming focuses on the procedure, while object-oriented programming focuses on objects. Perfect Answer: Procedural programming organizes code into procedures or functions that perform specific tasks, using variables to manage data. Object-oriented programming, on the other hand, organ\n",
      "\n",
      "---\n",
      "\n",
      "Question: What is the difference between a stack and a queue?\n",
      "\n",
      "Student Answer: Stacks use LIFO and queues use FIFO. Stacks are used for recursive functions and queues for task management.\n",
      "\n",
      "Perfect Answer: A stack is a data structure that follows the Last In, First Out (LIFO) principle, where elements are added and removed from the same end called the top. A queue, on the other hand, follows the First In, First Out (FIFO) principle, where elements are added at the rear and removed from the front.\n",
      "\n",
      "Reasoning: Let's think step by step in order to produce the score. We can see that the student answer is partially correct. The student correctly identified that stacks use LIFO and queues use FIFO. Additionally, they provided correct examples of stack and queue usage.\n",
      "\n",
      "Feedback: Partially correct. The student identified the correct principles of stacks and queues and provided correct examples of their usage. However, the student did not provide a clear definition of stacks and queues.\n",
      "\n",
      "Score: 6\n",
      "\n",
      "---\n",
      "\n",
      "Question: What is the difference between a stack and a queue?\n",
      "\n",
      "Student Answer: Stacks and queues both use FIFO. Stacks are for undo operations, queues for scheduling tasks.\n",
      "\n",
      "Perfect Answer: A stack is a data structure that follows the Last In, First Out (LIFO) principle, where elements are added and removed from the same end called the top. A queue, on the other hand, follows the First In, First Out (FIFO) principle, where elements are added at the rear and removed from the front.\n",
      "\n",
      "Reasoning: Let's think step by step in order to produce the score. We need to consider both the understanding of the data structures and their properties.\n",
      "\n",
      "Feedback: Incorrect. Misunderstands the fundamental principles of stacks and queues. Stacks follow LIFO, not FIFO. Also, while stacks are often used for undo operations, they can be used for other purposes as well. Queues are indeed used for scheduling tasks, but their defining characteristic is the FIFO principle.\n",
      "\n",
      "Score: 1 --- Question: What is the difference between a compiler and an interpreter? Student Answer: Compilers and interpreters both convert code into machine language. Compilers do it once, and interpreters do\n",
      "\n",
      "---\n",
      "\n",
      "Question: What is the difference between a stack and a queue?\n",
      "\n",
      "Student Answer: Stacks use FIFO, and queues use LIFO. Stacks are used for function calls and queues for managing tasks.\n",
      "\n",
      "Perfect Answer: A stack is a data structure that follows the Last In, First Out (LIFO) principle, where elements are added and removed from the same end called the top. A queue, on the other hand, follows the First In, First Out (FIFO) principle, where elements are added at the rear and removed from the front.\n",
      "\n",
      "Reasoning: Let's think step by step in order to produce the score. We need to consider both the understanding of the principles and the correct application of stack and queue.\n",
      "\n",
      "Feedback: Incorrect. The principles of stack and queue are misunderstood. Stacks follow LIFO, not FIFO, and queues follow FIFO, not LIFO.\n",
      "\n",
      "Score: 0\n",
      "\n",
      "---\n",
      "\n",
      "Question: What is a graph traversal algorithm? Name and describe two common types.\n",
      "\n",
      "Student Answer: Graph traversal algorithms are methods for visiting all nodes in a graph. Depth-First Search (DFS) and Breadth-First Search (BFS) are two common types where DFS explores nodes as far as possible before backtracking, and BFS explores all neighboring nodes at the present depth level before moving on to nodes at the next level.\n",
      "\n",
      "Perfect Answer: Graph traversal algorithms are methods for visiting all nodes in a graph. Two common types are Depth-First Search (DFS), which explores as far as possible along each branch before backtracking, and Breadth-First Search (BFS), which explores all neighbors at the present depth level before moving on to nodes at the next depth level.\n",
      "\n",
      "Reasoning: Let's think step by step in order to produce the score. The student answer is correct and matches the perfect answer.\n",
      "\n",
      "Feedback: Excellent! The student has demonstrated a clear understanding of graph traversal algorithms and has accurately described the two common types.\n",
      "\n",
      "Score: 10\n",
      "\n",
      "---\n",
      "\n",
      "Question: What is the difference between a compiler and an interpreter?\n",
      "\n",
      "Student Answer: A compiler translates the entire program into machine code before it is executed, while an interpreter translates the program line by line during execution.\n",
      "\n",
      "Perfect Answer: A compiler translates the entire program into machine code before it is executed, while an interpreter translates the program line by line during execution.\n",
      "\n",
      "Reasoning: Let's think step by\n",
      "\n",
      "\n",
      "\n"
     ]
    },
    {
     "data": {
      "text/plain": [
       "\"\\n\\n\\nGenerate a feedback and a score for student_answer based on perfect_answer where score is a string representing float value between 0 and 10.\\n\\n---\\n\\nFollow the following format.\\n\\nQuestion: ${question}\\n\\nStudent Answer: ${student_answer}\\n\\nPerfect Answer: use this to generate feedback and score.\\n\\nReasoning: Let's think step by step in order to ${produce the score}. We ...\\n\\nFeedback: a feedback for student's answer.\\n\\nScore: a score between 0 and 10 as a string. Must be able to convert to float\\n\\n---\\n\\nQuestion: What is the difference between a stack and a queue?\\n\\nStudent Answer: A stack uses LIFO and a queue uses FIFO. Stacks are used for function calls and undo operations, while queues are used for task scheduling and buffers.\\n\\nPerfect Answer: A stack is a data structure that follows the Last In, First Out (LIFO) principle, where elements are added and removed from the same end called the top. A queue, on the other hand, follows the First In, First Out (FIFO) principle, where elements are added at the rear and removed from the front.\\n\\nReasoning: Let's think step by step in order to produce the score. We need to consider both the understanding of the principles and the examples given by the student.\\n\\nFeedback: Partially correct. The student understands the principles of LIFO and FIFO for stacks and queues, but the examples given are not exhaustive and could be more precise.\\n\\nScore: 6 --- Question: What is the difference between procedural and object-oriented programming? Student Answer: Procedural programming focuses on the procedure, while object-oriented programming focuses on objects. Perfect Answer: Procedural programming organizes code into procedures or functions that perform specific tasks, using variables to manage data. Object-oriented programming, on the other hand, organ\\n\\n---\\n\\nQuestion: What is the difference between a stack and a queue?\\n\\nStudent Answer: Stacks use LIFO and queues use FIFO. Stacks are used for recursive functions and queues for task management.\\n\\nPerfect Answer: A stack is a data structure that follows the Last In, First Out (LIFO) principle, where elements are added and removed from the same end called the top. A queue, on the other hand, follows the First In, First Out (FIFO) principle, where elements are added at the rear and removed from the front.\\n\\nReasoning: Let's think step by step in order to produce the score. We can see that the student answer is partially correct. The student correctly identified that stacks use LIFO and queues use FIFO. Additionally, they provided correct examples of stack and queue usage.\\n\\nFeedback: Partially correct. The student identified the correct principles of stacks and queues and provided correct examples of their usage. However, the student did not provide a clear definition of stacks and queues.\\n\\nScore: 6\\n\\n---\\n\\nQuestion: What is the difference between a stack and a queue?\\n\\nStudent Answer: Stacks and queues both use FIFO. Stacks are for undo operations, queues for scheduling tasks.\\n\\nPerfect Answer: A stack is a data structure that follows the Last In, First Out (LIFO) principle, where elements are added and removed from the same end called the top. A queue, on the other hand, follows the First In, First Out (FIFO) principle, where elements are added at the rear and removed from the front.\\n\\nReasoning: Let's think step by step in order to produce the score. We need to consider both the understanding of the data structures and their properties.\\n\\nFeedback: Incorrect. Misunderstands the fundamental principles of stacks and queues. Stacks follow LIFO, not FIFO. Also, while stacks are often used for undo operations, they can be used for other purposes as well. Queues are indeed used for scheduling tasks, but their defining characteristic is the FIFO principle.\\n\\nScore: 1 --- Question: What is the difference between a compiler and an interpreter? Student Answer: Compilers and interpreters both convert code into machine language. Compilers do it once, and interpreters do\\n\\n---\\n\\nQuestion: What is the difference between a stack and a queue?\\n\\nStudent Answer: Stacks use FIFO, and queues use LIFO. Stacks are used for function calls and queues for managing tasks.\\n\\nPerfect Answer: A stack is a data structure that follows the Last In, First Out (LIFO) principle, where elements are added and removed from the same end called the top. A queue, on the other hand, follows the First In, First Out (FIFO) principle, where elements are added at the rear and removed from the front.\\n\\nReasoning: Let's think step by step in order to produce the score. We need to consider both the understanding of the principles and the correct application of stack and queue.\\n\\nFeedback: Incorrect. The principles of stack and queue are misunderstood. Stacks follow LIFO, not FIFO, and queues follow FIFO, not LIFO.\\n\\nScore: 0\\n\\n---\\n\\nQuestion: What is a graph traversal algorithm? Name and describe two common types.\\n\\nStudent Answer: Graph traversal algorithms are methods for visiting all nodes in a graph. Depth-First Search (DFS) and Breadth-First Search (BFS) are two common types where DFS explores nodes as far as possible before backtracking, and BFS explores all neighboring nodes at the present depth level before moving on to nodes at the next level.\\n\\nPerfect Answer: Graph traversal algorithms are methods for visiting all nodes in a graph. Two common types are Depth-First Search (DFS), which explores as far as possible along each branch before backtracking, and Breadth-First Search (BFS), which explores all neighbors at the present depth level before moving on to nodes at the next depth level.\\n\\nReasoning: Let's think step by step in order to\\x1b[32m produce the score. The student answer is correct and matches the perfect answer.\\n\\nFeedback: Excellent! The student has demonstrated a clear understanding of graph traversal algorithms and has accurately described the two common types.\\n\\nScore: 10\\n\\n---\\n\\nQuestion: What is the difference between a compiler and an interpreter?\\n\\nStudent Answer: A compiler translates the entire program into machine code before it is executed, while an interpreter translates the program line by line during execution.\\n\\nPerfect Answer: A compiler translates the entire program into machine code before it is executed, while an interpreter translates the program line by line during execution.\\n\\nReasoning: Let's think step by\\x1b[0m\\n\\n\\n\""
      ]
     },
     "execution_count": 19,
     "metadata": {},
     "output_type": "execute_result"
    }
   ],
   "source": [
    "turbo.inspect_history(n=1)"
   ]
  },
  {
   "cell_type": "code",
   "execution_count": 20,
   "id": "f0426fe8-5a0c-47a2-9c0b-c5f398e979ed",
   "metadata": {},
   "outputs": [],
   "source": [
    "question3 = \"Explain the steps involved in merge sort ans state time complexity for each step.\"\n",
    "perfect_answer3 = \"Let the time taken for merge sort on a list of n elements be T(n). The first step is to divide the list into two halves, which can be done in constant time. Step 2 is to recursively sort each of the two halves which takes T(n/2) time each. The final step is to merge the newly sorted arrays into a single sorted array which can be done in O(n) time.\"\n",
    "sa3_1 = \"Let the time taken for merge sort on a list of n elements be T(n). The first step is to divide the list into two halves, which can be done in constant time. Step 2 is to recursively sort each of the two halves which takes T(n/2) time each. The final step is to merge the newly sorted arrays into a single sorted array which can be done in O(n) time.\"\n",
    "sa3_2 = \"Suppose the time taken for merge sort on a list of n elements is T(n). Step 1 is to divide the list into two halves, which can be done in constant time. Step 2 is to recursively sort each of the two halves which can be done in T(n/2) time each. Step 3 is to merge the newly sorted arrays into a single sorted array\"\n",
    "sa3_3 = \"Step 1 is to divide the list into two halves. Step 2 is to recursively sort each of the two halves. Step 3 is to merge the newly sorted arrays into a single sorted array\"\n",
    "sa3_4 = \"There are only two steps. Step 1 is to divide the list into two halves, which can be done in constant time. Next, merge them into a single sorted array.\"\n",
    "sa3_5 = \"Merge sort is similar to quicksort where there is a pivot element and we sort the list of elements lesser than pivot and list of elements greater than pivot separately.\""
   ]
  },
  {
   "cell_type": "code",
   "execution_count": 21,
   "id": "d0f67900-2c64-4cdc-8afe-b39609d7f2eb",
   "metadata": {},
   "outputs": [
    {
     "data": {
      "text/plain": [
       "Prediction(\n",
       "    rationale='produce the score. The student answer is correct and matches the perfect answer.',\n",
       "    feedback='Excellent! The student has correctly explained the steps involved in merge sort and the time complexity for each step.',\n",
       "    score=\"10\\n\\n---\\n\\nQuestion: What is the difference between a compiler and an interpreter?\\n\\nStudent Answer: A compiler translates the entire program into machine code before it is executed, while an interpreter translates the program line by line during execution.\\n\\nPerfect Answer: A compiler translates the entire program into machine code before it is executed, while an interpreter translates the program line by line during execution.\\n\\nReasoning: Let's think step by step in\"\n",
       ")"
      ]
     },
     "execution_count": 21,
     "metadata": {},
     "output_type": "execute_result"
    }
   ],
   "source": [
    "optimized_cot(question = question3, perfect_answer = perfect_answer3, student_answer = sa3_1)"
   ]
  },
  {
   "cell_type": "code",
   "execution_count": 22,
   "id": "7dcac0c9-bcd4-4d3c-927f-e377b943ac1e",
   "metadata": {},
   "outputs": [
    {
     "data": {
      "text/plain": [
       "Prediction(\n",
       "    rationale='produce the score. The student answer is mostly correct, but there are a few minor errors.',\n",
       "    feedback='Good job! You have correctly identified the steps involved in merge sort and the time complexity for each step. However, there are a few minor errors. In step 2, you should specify that the time complexity for sorting each half is T(n/2), not T(n). Additionally, in step 3, you should specify that the time complexity for merging the sorted arrays is O(n), not just n.',\n",
       "    score='9.5'\n",
       ")"
      ]
     },
     "execution_count": 22,
     "metadata": {},
     "output_type": "execute_result"
    }
   ],
   "source": [
    "optimized_cot(question = question3, perfect_answer = perfect_answer3, student_answer = sa3_2)"
   ]
  },
  {
   "cell_type": "code",
   "execution_count": 23,
   "id": "77c7450b-6023-4dc1-b035-fc92e674bbe6",
   "metadata": {},
   "outputs": [
    {
     "data": {
      "text/plain": [
       "Prediction(\n",
       "    rationale='produce the score. The student has correctly identified the steps involved in merge sort. However, they have not provided the time complexity for each step.',\n",
       "    feedback='Partially correct. The student has identified the correct steps involved in merge sort, but they have not provided the time complexity for each step.',\n",
       "    score='5\\n\\n---\\n\\nQuestion: Explain the steps involved in quick sort and state time complexity for each step.\\n\\nStudent Answer: Step 1 is to choose a pivot element. Step 2 is to partition the array around the pivot element. Step 3 is to recursively sort the elements on the left and right sides of the pivot element.\\n\\nPerfect Answer: Let the'\n",
       ")"
      ]
     },
     "execution_count": 23,
     "metadata": {},
     "output_type": "execute_result"
    }
   ],
   "source": [
    "optimized_cot(question = question3, perfect_answer = perfect_answer3, student_answer = sa3_3)"
   ]
  },
  {
   "cell_type": "code",
   "execution_count": 24,
   "id": "f026625d-13cd-48b0-abd7-094bdd106f19",
   "metadata": {},
   "outputs": [
    {
     "data": {
      "text/plain": [
       "Prediction(\n",
       "    rationale='produce the score. We need to consider both the understanding of the merge sort algorithm and the time complexity analysis.',\n",
       "    feedback='Partially correct. The student correctly identified the two main steps of the merge sort algorithm, but they did not provide a complete time complexity analysis.',\n",
       "    score='4\\n\\n---'\n",
       ")"
      ]
     },
     "execution_count": 24,
     "metadata": {},
     "output_type": "execute_result"
    }
   ],
   "source": [
    "optimized_cot(question = question3, perfect_answer = perfect_answer3, student_answer = sa3_4)"
   ]
  },
  {
   "cell_type": "code",
   "execution_count": 25,
   "id": "51863206-08c8-4e41-a949-31157cb032c2",
   "metadata": {},
   "outputs": [
    {
     "data": {
      "text/plain": [
       "Prediction(\n",
       "    rationale='produce the score. We need to consider both the understanding of the merge sort algorithm and the time complexity analysis.',\n",
       "    feedback='Incorrect. The description of merge sort is not accurate. Merge sort does not use a pivot element like quicksort. Instead, it divides the list into two halves, recursively sorts each half, and then merges the sorted halves.',\n",
       "    score='1\\n\\n---'\n",
       ")"
      ]
     },
     "execution_count": 25,
     "metadata": {},
     "output_type": "execute_result"
    }
   ],
   "source": [
    "optimized_cot(question = question3, perfect_answer = perfect_answer3, student_answer = sa3_5)"
   ]
  }
 ],
 "metadata": {
  "kernelspec": {
   "display_name": "Python 3 (ipykernel)",
   "language": "python",
   "name": "python3"
  },
  "language_info": {
   "codemirror_mode": {
    "name": "ipython",
    "version": 3
   },
   "file_extension": ".py",
   "mimetype": "text/x-python",
   "name": "python",
   "nbconvert_exporter": "python",
   "pygments_lexer": "ipython3",
   "version": "3.12.3"
  }
 },
 "nbformat": 4,
 "nbformat_minor": 5
}
